{
 "cells": [
  {
   "cell_type": "code",
   "execution_count": 1,
   "id": "8e59ee1e",
   "metadata": {},
   "outputs": [
    {
     "data": {
      "text/plain": [
       "True"
      ]
     },
     "execution_count": 1,
     "metadata": {},
     "output_type": "execute_result"
    }
   ],
   "source": [
    "import os\n",
    "os.chdir(\"C:/Users/lukev/Documents/SOPlijner/SOPlijner\")\n",
    "import torch\n",
    "torch.cuda.is_available()"
   ]
  },
  {
   "cell_type": "markdown",
   "id": "1c1591b4",
   "metadata": {},
   "source": [
    "### Load english models for SICK dataset"
   ]
  },
  {
   "cell_type": "code",
   "execution_count": 2,
   "id": "9624c827",
   "metadata": {},
   "outputs": [
    {
     "ename": "FileNotFoundError",
     "evalue": "[Errno 2] No such file or directory: 'sick_nl/model_data/models/model_SICK_roberta-base.pt'",
     "output_type": "error",
     "traceback": [
      "\u001b[1;31m---------------------------------------------------------------------------\u001b[0m",
      "\u001b[1;31mFileNotFoundError\u001b[0m                         Traceback (most recent call last)",
      "Input \u001b[1;32mIn [2]\u001b[0m, in \u001b[0;36m<cell line: 1>\u001b[1;34m()\u001b[0m\n\u001b[1;32m----> 1\u001b[0m model_sick_roberta_en \u001b[38;5;241m=\u001b[39m \u001b[43mtorch\u001b[49m\u001b[38;5;241;43m.\u001b[39;49m\u001b[43mload\u001b[49m\u001b[43m(\u001b[49m\u001b[38;5;124;43m\"\u001b[39;49m\u001b[38;5;124;43msick_nl/model_data/models/model_SICK_roberta-base.pt\u001b[39;49m\u001b[38;5;124;43m\"\u001b[39;49m\u001b[43m)\u001b[49m\n\u001b[0;32m      2\u001b[0m model_sick_mbert_en \u001b[38;5;241m=\u001b[39m torch\u001b[38;5;241m.\u001b[39mload(\u001b[38;5;124m\"\u001b[39m\u001b[38;5;124msick_nl/model_data/models/model_SICK_bert-base-multilingual-cased.pt\u001b[39m\u001b[38;5;124m\"\u001b[39m)\n\u001b[0;32m      3\u001b[0m model_sick_bert_en \u001b[38;5;241m=\u001b[39m torch\u001b[38;5;241m.\u001b[39mload(\u001b[38;5;124m\"\u001b[39m\u001b[38;5;124msick_nl/model_data/models/model_SICK_bert-base-cased.pt\u001b[39m\u001b[38;5;124m\"\u001b[39m)\n",
      "File \u001b[1;32m~\\anaconda3\\envs\\both\\lib\\site-packages\\torch\\serialization.py:699\u001b[0m, in \u001b[0;36mload\u001b[1;34m(f, map_location, pickle_module, **pickle_load_args)\u001b[0m\n\u001b[0;32m    696\u001b[0m \u001b[38;5;28;01mif\u001b[39;00m \u001b[38;5;124m'\u001b[39m\u001b[38;5;124mencoding\u001b[39m\u001b[38;5;124m'\u001b[39m \u001b[38;5;129;01mnot\u001b[39;00m \u001b[38;5;129;01min\u001b[39;00m pickle_load_args\u001b[38;5;241m.\u001b[39mkeys():\n\u001b[0;32m    697\u001b[0m     pickle_load_args[\u001b[38;5;124m'\u001b[39m\u001b[38;5;124mencoding\u001b[39m\u001b[38;5;124m'\u001b[39m] \u001b[38;5;241m=\u001b[39m \u001b[38;5;124m'\u001b[39m\u001b[38;5;124mutf-8\u001b[39m\u001b[38;5;124m'\u001b[39m\n\u001b[1;32m--> 699\u001b[0m \u001b[38;5;28;01mwith\u001b[39;00m \u001b[43m_open_file_like\u001b[49m\u001b[43m(\u001b[49m\u001b[43mf\u001b[49m\u001b[43m,\u001b[49m\u001b[43m \u001b[49m\u001b[38;5;124;43m'\u001b[39;49m\u001b[38;5;124;43mrb\u001b[39;49m\u001b[38;5;124;43m'\u001b[39;49m\u001b[43m)\u001b[49m \u001b[38;5;28;01mas\u001b[39;00m opened_file:\n\u001b[0;32m    700\u001b[0m     \u001b[38;5;28;01mif\u001b[39;00m _is_zipfile(opened_file):\n\u001b[0;32m    701\u001b[0m         \u001b[38;5;66;03m# The zipfile reader is going to advance the current file position.\u001b[39;00m\n\u001b[0;32m    702\u001b[0m         \u001b[38;5;66;03m# If we want to actually tail call to torch.jit.load, we need to\u001b[39;00m\n\u001b[0;32m    703\u001b[0m         \u001b[38;5;66;03m# reset back to the original position.\u001b[39;00m\n\u001b[0;32m    704\u001b[0m         orig_position \u001b[38;5;241m=\u001b[39m opened_file\u001b[38;5;241m.\u001b[39mtell()\n",
      "File \u001b[1;32m~\\anaconda3\\envs\\both\\lib\\site-packages\\torch\\serialization.py:231\u001b[0m, in \u001b[0;36m_open_file_like\u001b[1;34m(name_or_buffer, mode)\u001b[0m\n\u001b[0;32m    229\u001b[0m \u001b[38;5;28;01mdef\u001b[39;00m \u001b[38;5;21m_open_file_like\u001b[39m(name_or_buffer, mode):\n\u001b[0;32m    230\u001b[0m     \u001b[38;5;28;01mif\u001b[39;00m _is_path(name_or_buffer):\n\u001b[1;32m--> 231\u001b[0m         \u001b[38;5;28;01mreturn\u001b[39;00m \u001b[43m_open_file\u001b[49m\u001b[43m(\u001b[49m\u001b[43mname_or_buffer\u001b[49m\u001b[43m,\u001b[49m\u001b[43m \u001b[49m\u001b[43mmode\u001b[49m\u001b[43m)\u001b[49m\n\u001b[0;32m    232\u001b[0m     \u001b[38;5;28;01melse\u001b[39;00m:\n\u001b[0;32m    233\u001b[0m         \u001b[38;5;28;01mif\u001b[39;00m \u001b[38;5;124m'\u001b[39m\u001b[38;5;124mw\u001b[39m\u001b[38;5;124m'\u001b[39m \u001b[38;5;129;01min\u001b[39;00m mode:\n",
      "File \u001b[1;32m~\\anaconda3\\envs\\both\\lib\\site-packages\\torch\\serialization.py:212\u001b[0m, in \u001b[0;36m_open_file.__init__\u001b[1;34m(self, name, mode)\u001b[0m\n\u001b[0;32m    211\u001b[0m \u001b[38;5;28;01mdef\u001b[39;00m \u001b[38;5;21m__init__\u001b[39m(\u001b[38;5;28mself\u001b[39m, name, mode):\n\u001b[1;32m--> 212\u001b[0m     \u001b[38;5;28msuper\u001b[39m(_open_file, \u001b[38;5;28mself\u001b[39m)\u001b[38;5;241m.\u001b[39m\u001b[38;5;21m__init__\u001b[39m(\u001b[38;5;28;43mopen\u001b[39;49m\u001b[43m(\u001b[49m\u001b[43mname\u001b[49m\u001b[43m,\u001b[49m\u001b[43m \u001b[49m\u001b[43mmode\u001b[49m\u001b[43m)\u001b[49m)\n",
      "\u001b[1;31mFileNotFoundError\u001b[0m: [Errno 2] No such file or directory: 'sick_nl/model_data/models/model_SICK_roberta-base.pt'"
     ]
    }
   ],
   "source": [
    "model_sick_roberta_en = torch.load(\"sick_nl/model_data/models/model_SICK_roberta-base.pt\")\n",
    "model_sick_mbert_en = torch.load(\"sick_nl/model_data/models/model_SICK_bert-base-multilingual-cased.pt\")\n",
    "model_sick_bert_en = torch.load(\"sick_nl/model_data/models/model_SICK_bert-base-cased.pt\")"
   ]
  },
  {
   "cell_type": "markdown",
   "id": "a7f7bac0",
   "metadata": {},
   "source": [
    "### Load dutch models for SICK dataset"
   ]
  },
  {
   "cell_type": "code",
   "execution_count": 3,
   "id": "2dbd01c8",
   "metadata": {},
   "outputs": [],
   "source": [
    "model_sick_mbert_nl = torch.load(\"sick_nl/model_data/models/model_SICK_NL_bert-base-multilingual-cased.pt\")\n",
    "model_sick_bert_nl = torch.load(\"sick_nl/model_data/models/model_SICK_NL_bert-base-dutch-cased.pt\")\n",
    "model_sick_roberta_nl = torch.load(\"sick_nl/model_data/models/model_SICK_NL_robbert-v2-dutch-base.pt\")"
   ]
  },
  {
   "cell_type": "markdown",
   "id": "2dc9822d",
   "metadata": {},
   "source": [
    "### Load english models for medNLI"
   ]
  },
  {
   "cell_type": "code",
   "execution_count": 2,
   "id": "6c7cc0f6",
   "metadata": {},
   "outputs": [],
   "source": [
    "model_mednli_roberta_en = torch.load(\"sick_nl/model_data/models/model_MEDNLI_roberta-base.pt\")\n",
    "model_mednli_mbert_en = torch.load(\"sick_nl/model_data/models/model_MEDNLI_bert-base-multilingual-cased.pt\")\n",
    "model_mednli_bert_en = torch.load(\"sick_nl/model_data/models/model_MEDNLI_bert-base-cased.pt\")"
   ]
  },
  {
   "cell_type": "markdown",
   "id": "0b949d1d",
   "metadata": {},
   "source": [
    "### Load dutch models for medNLI"
   ]
  },
  {
   "cell_type": "code",
   "execution_count": 3,
   "id": "9dc1f42b",
   "metadata": {},
   "outputs": [],
   "source": [
    "model_mednli_bert_nl_go = torch.load(\"sick_nl/model_data/models/model_MEDNLI_NL_go_bert-base-dutch-cased.pt\")\n",
    "model_mednli_bert_nl_dl = torch.load(\"sick_nl/model_data/models/model_MEDNLI_NL_dl_bert-base-dutch-cased.pt\")\n",
    "model_mednli_roberta_nl_go = torch.load(\"sick_nl/model_data/models/model_MEDNLI_NL_go_robbert-v2-dutch-base.pt\")\n",
    "model_mednli_roberta_nl_dl = torch.load(\"sick_nl/model_data/models/model_MEDNLI_NL_dl_robbert-v2-dutch-base.pt\")\n",
    "model_mednli_mbert_nl_go = torch.load(\"sick_nl/model_data/models/model_MEDNLI_NL_go_bert-base-multilingual-cased.pt\")\n",
    "model_mednli_mbert_nl_dl = torch.load(\"sick_nl/model_data/models/model_MEDNLI_NL_dl_bert-base-multilingual-cased.pt\")"
   ]
  },
  {
   "cell_type": "markdown",
   "id": "99257ca7",
   "metadata": {},
   "source": [
    "### Set to evaluation state"
   ]
  },
  {
   "cell_type": "code",
   "execution_count": 4,
   "id": "d19b0006",
   "metadata": {},
   "outputs": [
    {
     "name": "stdout",
     "output_type": "stream",
     "text": [
      "1.11.0+cu113\n"
     ]
    },
    {
     "data": {
      "text/plain": [
       "BertForSequenceClassification(\n",
       "  (bert): BertModel(\n",
       "    (embeddings): BertEmbeddings(\n",
       "      (word_embeddings): Embedding(30073, 768, padding_idx=3)\n",
       "      (position_embeddings): Embedding(512, 768)\n",
       "      (token_type_embeddings): Embedding(2, 768)\n",
       "      (LayerNorm): LayerNorm((768,), eps=1e-12, elementwise_affine=True)\n",
       "      (dropout): Dropout(p=0.1, inplace=False)\n",
       "    )\n",
       "    (encoder): BertEncoder(\n",
       "      (layer): ModuleList(\n",
       "        (0): BertLayer(\n",
       "          (attention): BertAttention(\n",
       "            (self): BertSelfAttention(\n",
       "              (query): Linear(in_features=768, out_features=768, bias=True)\n",
       "              (key): Linear(in_features=768, out_features=768, bias=True)\n",
       "              (value): Linear(in_features=768, out_features=768, bias=True)\n",
       "              (dropout): Dropout(p=0.1, inplace=False)\n",
       "            )\n",
       "            (output): BertSelfOutput(\n",
       "              (dense): Linear(in_features=768, out_features=768, bias=True)\n",
       "              (LayerNorm): LayerNorm((768,), eps=1e-12, elementwise_affine=True)\n",
       "              (dropout): Dropout(p=0.1, inplace=False)\n",
       "            )\n",
       "          )\n",
       "          (intermediate): BertIntermediate(\n",
       "            (dense): Linear(in_features=768, out_features=3072, bias=True)\n",
       "            (intermediate_act_fn): GELUActivation()\n",
       "          )\n",
       "          (output): BertOutput(\n",
       "            (dense): Linear(in_features=3072, out_features=768, bias=True)\n",
       "            (LayerNorm): LayerNorm((768,), eps=1e-12, elementwise_affine=True)\n",
       "            (dropout): Dropout(p=0.1, inplace=False)\n",
       "          )\n",
       "        )\n",
       "        (1): BertLayer(\n",
       "          (attention): BertAttention(\n",
       "            (self): BertSelfAttention(\n",
       "              (query): Linear(in_features=768, out_features=768, bias=True)\n",
       "              (key): Linear(in_features=768, out_features=768, bias=True)\n",
       "              (value): Linear(in_features=768, out_features=768, bias=True)\n",
       "              (dropout): Dropout(p=0.1, inplace=False)\n",
       "            )\n",
       "            (output): BertSelfOutput(\n",
       "              (dense): Linear(in_features=768, out_features=768, bias=True)\n",
       "              (LayerNorm): LayerNorm((768,), eps=1e-12, elementwise_affine=True)\n",
       "              (dropout): Dropout(p=0.1, inplace=False)\n",
       "            )\n",
       "          )\n",
       "          (intermediate): BertIntermediate(\n",
       "            (dense): Linear(in_features=768, out_features=3072, bias=True)\n",
       "            (intermediate_act_fn): GELUActivation()\n",
       "          )\n",
       "          (output): BertOutput(\n",
       "            (dense): Linear(in_features=3072, out_features=768, bias=True)\n",
       "            (LayerNorm): LayerNorm((768,), eps=1e-12, elementwise_affine=True)\n",
       "            (dropout): Dropout(p=0.1, inplace=False)\n",
       "          )\n",
       "        )\n",
       "        (2): BertLayer(\n",
       "          (attention): BertAttention(\n",
       "            (self): BertSelfAttention(\n",
       "              (query): Linear(in_features=768, out_features=768, bias=True)\n",
       "              (key): Linear(in_features=768, out_features=768, bias=True)\n",
       "              (value): Linear(in_features=768, out_features=768, bias=True)\n",
       "              (dropout): Dropout(p=0.1, inplace=False)\n",
       "            )\n",
       "            (output): BertSelfOutput(\n",
       "              (dense): Linear(in_features=768, out_features=768, bias=True)\n",
       "              (LayerNorm): LayerNorm((768,), eps=1e-12, elementwise_affine=True)\n",
       "              (dropout): Dropout(p=0.1, inplace=False)\n",
       "            )\n",
       "          )\n",
       "          (intermediate): BertIntermediate(\n",
       "            (dense): Linear(in_features=768, out_features=3072, bias=True)\n",
       "            (intermediate_act_fn): GELUActivation()\n",
       "          )\n",
       "          (output): BertOutput(\n",
       "            (dense): Linear(in_features=3072, out_features=768, bias=True)\n",
       "            (LayerNorm): LayerNorm((768,), eps=1e-12, elementwise_affine=True)\n",
       "            (dropout): Dropout(p=0.1, inplace=False)\n",
       "          )\n",
       "        )\n",
       "        (3): BertLayer(\n",
       "          (attention): BertAttention(\n",
       "            (self): BertSelfAttention(\n",
       "              (query): Linear(in_features=768, out_features=768, bias=True)\n",
       "              (key): Linear(in_features=768, out_features=768, bias=True)\n",
       "              (value): Linear(in_features=768, out_features=768, bias=True)\n",
       "              (dropout): Dropout(p=0.1, inplace=False)\n",
       "            )\n",
       "            (output): BertSelfOutput(\n",
       "              (dense): Linear(in_features=768, out_features=768, bias=True)\n",
       "              (LayerNorm): LayerNorm((768,), eps=1e-12, elementwise_affine=True)\n",
       "              (dropout): Dropout(p=0.1, inplace=False)\n",
       "            )\n",
       "          )\n",
       "          (intermediate): BertIntermediate(\n",
       "            (dense): Linear(in_features=768, out_features=3072, bias=True)\n",
       "            (intermediate_act_fn): GELUActivation()\n",
       "          )\n",
       "          (output): BertOutput(\n",
       "            (dense): Linear(in_features=3072, out_features=768, bias=True)\n",
       "            (LayerNorm): LayerNorm((768,), eps=1e-12, elementwise_affine=True)\n",
       "            (dropout): Dropout(p=0.1, inplace=False)\n",
       "          )\n",
       "        )\n",
       "        (4): BertLayer(\n",
       "          (attention): BertAttention(\n",
       "            (self): BertSelfAttention(\n",
       "              (query): Linear(in_features=768, out_features=768, bias=True)\n",
       "              (key): Linear(in_features=768, out_features=768, bias=True)\n",
       "              (value): Linear(in_features=768, out_features=768, bias=True)\n",
       "              (dropout): Dropout(p=0.1, inplace=False)\n",
       "            )\n",
       "            (output): BertSelfOutput(\n",
       "              (dense): Linear(in_features=768, out_features=768, bias=True)\n",
       "              (LayerNorm): LayerNorm((768,), eps=1e-12, elementwise_affine=True)\n",
       "              (dropout): Dropout(p=0.1, inplace=False)\n",
       "            )\n",
       "          )\n",
       "          (intermediate): BertIntermediate(\n",
       "            (dense): Linear(in_features=768, out_features=3072, bias=True)\n",
       "            (intermediate_act_fn): GELUActivation()\n",
       "          )\n",
       "          (output): BertOutput(\n",
       "            (dense): Linear(in_features=3072, out_features=768, bias=True)\n",
       "            (LayerNorm): LayerNorm((768,), eps=1e-12, elementwise_affine=True)\n",
       "            (dropout): Dropout(p=0.1, inplace=False)\n",
       "          )\n",
       "        )\n",
       "        (5): BertLayer(\n",
       "          (attention): BertAttention(\n",
       "            (self): BertSelfAttention(\n",
       "              (query): Linear(in_features=768, out_features=768, bias=True)\n",
       "              (key): Linear(in_features=768, out_features=768, bias=True)\n",
       "              (value): Linear(in_features=768, out_features=768, bias=True)\n",
       "              (dropout): Dropout(p=0.1, inplace=False)\n",
       "            )\n",
       "            (output): BertSelfOutput(\n",
       "              (dense): Linear(in_features=768, out_features=768, bias=True)\n",
       "              (LayerNorm): LayerNorm((768,), eps=1e-12, elementwise_affine=True)\n",
       "              (dropout): Dropout(p=0.1, inplace=False)\n",
       "            )\n",
       "          )\n",
       "          (intermediate): BertIntermediate(\n",
       "            (dense): Linear(in_features=768, out_features=3072, bias=True)\n",
       "            (intermediate_act_fn): GELUActivation()\n",
       "          )\n",
       "          (output): BertOutput(\n",
       "            (dense): Linear(in_features=3072, out_features=768, bias=True)\n",
       "            (LayerNorm): LayerNorm((768,), eps=1e-12, elementwise_affine=True)\n",
       "            (dropout): Dropout(p=0.1, inplace=False)\n",
       "          )\n",
       "        )\n",
       "        (6): BertLayer(\n",
       "          (attention): BertAttention(\n",
       "            (self): BertSelfAttention(\n",
       "              (query): Linear(in_features=768, out_features=768, bias=True)\n",
       "              (key): Linear(in_features=768, out_features=768, bias=True)\n",
       "              (value): Linear(in_features=768, out_features=768, bias=True)\n",
       "              (dropout): Dropout(p=0.1, inplace=False)\n",
       "            )\n",
       "            (output): BertSelfOutput(\n",
       "              (dense): Linear(in_features=768, out_features=768, bias=True)\n",
       "              (LayerNorm): LayerNorm((768,), eps=1e-12, elementwise_affine=True)\n",
       "              (dropout): Dropout(p=0.1, inplace=False)\n",
       "            )\n",
       "          )\n",
       "          (intermediate): BertIntermediate(\n",
       "            (dense): Linear(in_features=768, out_features=3072, bias=True)\n",
       "            (intermediate_act_fn): GELUActivation()\n",
       "          )\n",
       "          (output): BertOutput(\n",
       "            (dense): Linear(in_features=3072, out_features=768, bias=True)\n",
       "            (LayerNorm): LayerNorm((768,), eps=1e-12, elementwise_affine=True)\n",
       "            (dropout): Dropout(p=0.1, inplace=False)\n",
       "          )\n",
       "        )\n",
       "        (7): BertLayer(\n",
       "          (attention): BertAttention(\n",
       "            (self): BertSelfAttention(\n",
       "              (query): Linear(in_features=768, out_features=768, bias=True)\n",
       "              (key): Linear(in_features=768, out_features=768, bias=True)\n",
       "              (value): Linear(in_features=768, out_features=768, bias=True)\n",
       "              (dropout): Dropout(p=0.1, inplace=False)\n",
       "            )\n",
       "            (output): BertSelfOutput(\n",
       "              (dense): Linear(in_features=768, out_features=768, bias=True)\n",
       "              (LayerNorm): LayerNorm((768,), eps=1e-12, elementwise_affine=True)\n",
       "              (dropout): Dropout(p=0.1, inplace=False)\n",
       "            )\n",
       "          )\n",
       "          (intermediate): BertIntermediate(\n",
       "            (dense): Linear(in_features=768, out_features=3072, bias=True)\n",
       "            (intermediate_act_fn): GELUActivation()\n",
       "          )\n",
       "          (output): BertOutput(\n",
       "            (dense): Linear(in_features=3072, out_features=768, bias=True)\n",
       "            (LayerNorm): LayerNorm((768,), eps=1e-12, elementwise_affine=True)\n",
       "            (dropout): Dropout(p=0.1, inplace=False)\n",
       "          )\n",
       "        )\n",
       "        (8): BertLayer(\n",
       "          (attention): BertAttention(\n",
       "            (self): BertSelfAttention(\n",
       "              (query): Linear(in_features=768, out_features=768, bias=True)\n",
       "              (key): Linear(in_features=768, out_features=768, bias=True)\n",
       "              (value): Linear(in_features=768, out_features=768, bias=True)\n",
       "              (dropout): Dropout(p=0.1, inplace=False)\n",
       "            )\n",
       "            (output): BertSelfOutput(\n",
       "              (dense): Linear(in_features=768, out_features=768, bias=True)\n",
       "              (LayerNorm): LayerNorm((768,), eps=1e-12, elementwise_affine=True)\n",
       "              (dropout): Dropout(p=0.1, inplace=False)\n",
       "            )\n",
       "          )\n",
       "          (intermediate): BertIntermediate(\n",
       "            (dense): Linear(in_features=768, out_features=3072, bias=True)\n",
       "            (intermediate_act_fn): GELUActivation()\n",
       "          )\n",
       "          (output): BertOutput(\n",
       "            (dense): Linear(in_features=3072, out_features=768, bias=True)\n",
       "            (LayerNorm): LayerNorm((768,), eps=1e-12, elementwise_affine=True)\n",
       "            (dropout): Dropout(p=0.1, inplace=False)\n",
       "          )\n",
       "        )\n",
       "        (9): BertLayer(\n",
       "          (attention): BertAttention(\n",
       "            (self): BertSelfAttention(\n",
       "              (query): Linear(in_features=768, out_features=768, bias=True)\n",
       "              (key): Linear(in_features=768, out_features=768, bias=True)\n",
       "              (value): Linear(in_features=768, out_features=768, bias=True)\n",
       "              (dropout): Dropout(p=0.1, inplace=False)\n",
       "            )\n",
       "            (output): BertSelfOutput(\n",
       "              (dense): Linear(in_features=768, out_features=768, bias=True)\n",
       "              (LayerNorm): LayerNorm((768,), eps=1e-12, elementwise_affine=True)\n",
       "              (dropout): Dropout(p=0.1, inplace=False)\n",
       "            )\n",
       "          )\n",
       "          (intermediate): BertIntermediate(\n",
       "            (dense): Linear(in_features=768, out_features=3072, bias=True)\n",
       "            (intermediate_act_fn): GELUActivation()\n",
       "          )\n",
       "          (output): BertOutput(\n",
       "            (dense): Linear(in_features=3072, out_features=768, bias=True)\n",
       "            (LayerNorm): LayerNorm((768,), eps=1e-12, elementwise_affine=True)\n",
       "            (dropout): Dropout(p=0.1, inplace=False)\n",
       "          )\n",
       "        )\n",
       "        (10): BertLayer(\n",
       "          (attention): BertAttention(\n",
       "            (self): BertSelfAttention(\n",
       "              (query): Linear(in_features=768, out_features=768, bias=True)\n",
       "              (key): Linear(in_features=768, out_features=768, bias=True)\n",
       "              (value): Linear(in_features=768, out_features=768, bias=True)\n",
       "              (dropout): Dropout(p=0.1, inplace=False)\n",
       "            )\n",
       "            (output): BertSelfOutput(\n",
       "              (dense): Linear(in_features=768, out_features=768, bias=True)\n",
       "              (LayerNorm): LayerNorm((768,), eps=1e-12, elementwise_affine=True)\n",
       "              (dropout): Dropout(p=0.1, inplace=False)\n",
       "            )\n",
       "          )\n",
       "          (intermediate): BertIntermediate(\n",
       "            (dense): Linear(in_features=768, out_features=3072, bias=True)\n",
       "            (intermediate_act_fn): GELUActivation()\n",
       "          )\n",
       "          (output): BertOutput(\n",
       "            (dense): Linear(in_features=3072, out_features=768, bias=True)\n",
       "            (LayerNorm): LayerNorm((768,), eps=1e-12, elementwise_affine=True)\n",
       "            (dropout): Dropout(p=0.1, inplace=False)\n",
       "          )\n",
       "        )\n",
       "        (11): BertLayer(\n",
       "          (attention): BertAttention(\n",
       "            (self): BertSelfAttention(\n",
       "              (query): Linear(in_features=768, out_features=768, bias=True)\n",
       "              (key): Linear(in_features=768, out_features=768, bias=True)\n",
       "              (value): Linear(in_features=768, out_features=768, bias=True)\n",
       "              (dropout): Dropout(p=0.1, inplace=False)\n",
       "            )\n",
       "            (output): BertSelfOutput(\n",
       "              (dense): Linear(in_features=768, out_features=768, bias=True)\n",
       "              (LayerNorm): LayerNorm((768,), eps=1e-12, elementwise_affine=True)\n",
       "              (dropout): Dropout(p=0.1, inplace=False)\n",
       "            )\n",
       "          )\n",
       "          (intermediate): BertIntermediate(\n",
       "            (dense): Linear(in_features=768, out_features=3072, bias=True)\n",
       "            (intermediate_act_fn): GELUActivation()\n",
       "          )\n",
       "          (output): BertOutput(\n",
       "            (dense): Linear(in_features=3072, out_features=768, bias=True)\n",
       "            (LayerNorm): LayerNorm((768,), eps=1e-12, elementwise_affine=True)\n",
       "            (dropout): Dropout(p=0.1, inplace=False)\n",
       "          )\n",
       "        )\n",
       "      )\n",
       "    )\n",
       "    (pooler): BertPooler(\n",
       "      (dense): Linear(in_features=768, out_features=768, bias=True)\n",
       "      (activation): Tanh()\n",
       "    )\n",
       "  )\n",
       "  (dropout): Dropout(p=0.1, inplace=False)\n",
       "  (classifier): Linear(in_features=768, out_features=3, bias=True)\n",
       ")"
      ]
     },
     "execution_count": 4,
     "metadata": {},
     "output_type": "execute_result"
    }
   ],
   "source": [
    "print(torch.__version__)\n",
    "\n",
    "model_sick_mbert_en.eval()\n",
    "model_sick_mbert_nl.eval()\n",
    "\n",
    "model_sick_roberta_en.eval()\n",
    "model_sick_roberta_nl\n",
    "\n",
    "model_sick_bert_en.eval()\n",
    "model_sick_bert_nl.eval()\n"
   ]
  },
  {
   "cell_type": "code",
   "execution_count": 4,
   "id": "c47d11ee",
   "metadata": {},
   "outputs": [
    {
     "data": {
      "text/plain": [
       "BertForSequenceClassification(\n",
       "  (bert): BertModel(\n",
       "    (embeddings): BertEmbeddings(\n",
       "      (word_embeddings): Embedding(119547, 768, padding_idx=0)\n",
       "      (position_embeddings): Embedding(512, 768)\n",
       "      (token_type_embeddings): Embedding(2, 768)\n",
       "      (LayerNorm): LayerNorm((768,), eps=1e-12, elementwise_affine=True)\n",
       "      (dropout): Dropout(p=0.1, inplace=False)\n",
       "    )\n",
       "    (encoder): BertEncoder(\n",
       "      (layer): ModuleList(\n",
       "        (0): BertLayer(\n",
       "          (attention): BertAttention(\n",
       "            (self): BertSelfAttention(\n",
       "              (query): Linear(in_features=768, out_features=768, bias=True)\n",
       "              (key): Linear(in_features=768, out_features=768, bias=True)\n",
       "              (value): Linear(in_features=768, out_features=768, bias=True)\n",
       "              (dropout): Dropout(p=0.1, inplace=False)\n",
       "            )\n",
       "            (output): BertSelfOutput(\n",
       "              (dense): Linear(in_features=768, out_features=768, bias=True)\n",
       "              (LayerNorm): LayerNorm((768,), eps=1e-12, elementwise_affine=True)\n",
       "              (dropout): Dropout(p=0.1, inplace=False)\n",
       "            )\n",
       "          )\n",
       "          (intermediate): BertIntermediate(\n",
       "            (dense): Linear(in_features=768, out_features=3072, bias=True)\n",
       "            (intermediate_act_fn): GELUActivation()\n",
       "          )\n",
       "          (output): BertOutput(\n",
       "            (dense): Linear(in_features=3072, out_features=768, bias=True)\n",
       "            (LayerNorm): LayerNorm((768,), eps=1e-12, elementwise_affine=True)\n",
       "            (dropout): Dropout(p=0.1, inplace=False)\n",
       "          )\n",
       "        )\n",
       "        (1): BertLayer(\n",
       "          (attention): BertAttention(\n",
       "            (self): BertSelfAttention(\n",
       "              (query): Linear(in_features=768, out_features=768, bias=True)\n",
       "              (key): Linear(in_features=768, out_features=768, bias=True)\n",
       "              (value): Linear(in_features=768, out_features=768, bias=True)\n",
       "              (dropout): Dropout(p=0.1, inplace=False)\n",
       "            )\n",
       "            (output): BertSelfOutput(\n",
       "              (dense): Linear(in_features=768, out_features=768, bias=True)\n",
       "              (LayerNorm): LayerNorm((768,), eps=1e-12, elementwise_affine=True)\n",
       "              (dropout): Dropout(p=0.1, inplace=False)\n",
       "            )\n",
       "          )\n",
       "          (intermediate): BertIntermediate(\n",
       "            (dense): Linear(in_features=768, out_features=3072, bias=True)\n",
       "            (intermediate_act_fn): GELUActivation()\n",
       "          )\n",
       "          (output): BertOutput(\n",
       "            (dense): Linear(in_features=3072, out_features=768, bias=True)\n",
       "            (LayerNorm): LayerNorm((768,), eps=1e-12, elementwise_affine=True)\n",
       "            (dropout): Dropout(p=0.1, inplace=False)\n",
       "          )\n",
       "        )\n",
       "        (2): BertLayer(\n",
       "          (attention): BertAttention(\n",
       "            (self): BertSelfAttention(\n",
       "              (query): Linear(in_features=768, out_features=768, bias=True)\n",
       "              (key): Linear(in_features=768, out_features=768, bias=True)\n",
       "              (value): Linear(in_features=768, out_features=768, bias=True)\n",
       "              (dropout): Dropout(p=0.1, inplace=False)\n",
       "            )\n",
       "            (output): BertSelfOutput(\n",
       "              (dense): Linear(in_features=768, out_features=768, bias=True)\n",
       "              (LayerNorm): LayerNorm((768,), eps=1e-12, elementwise_affine=True)\n",
       "              (dropout): Dropout(p=0.1, inplace=False)\n",
       "            )\n",
       "          )\n",
       "          (intermediate): BertIntermediate(\n",
       "            (dense): Linear(in_features=768, out_features=3072, bias=True)\n",
       "            (intermediate_act_fn): GELUActivation()\n",
       "          )\n",
       "          (output): BertOutput(\n",
       "            (dense): Linear(in_features=3072, out_features=768, bias=True)\n",
       "            (LayerNorm): LayerNorm((768,), eps=1e-12, elementwise_affine=True)\n",
       "            (dropout): Dropout(p=0.1, inplace=False)\n",
       "          )\n",
       "        )\n",
       "        (3): BertLayer(\n",
       "          (attention): BertAttention(\n",
       "            (self): BertSelfAttention(\n",
       "              (query): Linear(in_features=768, out_features=768, bias=True)\n",
       "              (key): Linear(in_features=768, out_features=768, bias=True)\n",
       "              (value): Linear(in_features=768, out_features=768, bias=True)\n",
       "              (dropout): Dropout(p=0.1, inplace=False)\n",
       "            )\n",
       "            (output): BertSelfOutput(\n",
       "              (dense): Linear(in_features=768, out_features=768, bias=True)\n",
       "              (LayerNorm): LayerNorm((768,), eps=1e-12, elementwise_affine=True)\n",
       "              (dropout): Dropout(p=0.1, inplace=False)\n",
       "            )\n",
       "          )\n",
       "          (intermediate): BertIntermediate(\n",
       "            (dense): Linear(in_features=768, out_features=3072, bias=True)\n",
       "            (intermediate_act_fn): GELUActivation()\n",
       "          )\n",
       "          (output): BertOutput(\n",
       "            (dense): Linear(in_features=3072, out_features=768, bias=True)\n",
       "            (LayerNorm): LayerNorm((768,), eps=1e-12, elementwise_affine=True)\n",
       "            (dropout): Dropout(p=0.1, inplace=False)\n",
       "          )\n",
       "        )\n",
       "        (4): BertLayer(\n",
       "          (attention): BertAttention(\n",
       "            (self): BertSelfAttention(\n",
       "              (query): Linear(in_features=768, out_features=768, bias=True)\n",
       "              (key): Linear(in_features=768, out_features=768, bias=True)\n",
       "              (value): Linear(in_features=768, out_features=768, bias=True)\n",
       "              (dropout): Dropout(p=0.1, inplace=False)\n",
       "            )\n",
       "            (output): BertSelfOutput(\n",
       "              (dense): Linear(in_features=768, out_features=768, bias=True)\n",
       "              (LayerNorm): LayerNorm((768,), eps=1e-12, elementwise_affine=True)\n",
       "              (dropout): Dropout(p=0.1, inplace=False)\n",
       "            )\n",
       "          )\n",
       "          (intermediate): BertIntermediate(\n",
       "            (dense): Linear(in_features=768, out_features=3072, bias=True)\n",
       "            (intermediate_act_fn): GELUActivation()\n",
       "          )\n",
       "          (output): BertOutput(\n",
       "            (dense): Linear(in_features=3072, out_features=768, bias=True)\n",
       "            (LayerNorm): LayerNorm((768,), eps=1e-12, elementwise_affine=True)\n",
       "            (dropout): Dropout(p=0.1, inplace=False)\n",
       "          )\n",
       "        )\n",
       "        (5): BertLayer(\n",
       "          (attention): BertAttention(\n",
       "            (self): BertSelfAttention(\n",
       "              (query): Linear(in_features=768, out_features=768, bias=True)\n",
       "              (key): Linear(in_features=768, out_features=768, bias=True)\n",
       "              (value): Linear(in_features=768, out_features=768, bias=True)\n",
       "              (dropout): Dropout(p=0.1, inplace=False)\n",
       "            )\n",
       "            (output): BertSelfOutput(\n",
       "              (dense): Linear(in_features=768, out_features=768, bias=True)\n",
       "              (LayerNorm): LayerNorm((768,), eps=1e-12, elementwise_affine=True)\n",
       "              (dropout): Dropout(p=0.1, inplace=False)\n",
       "            )\n",
       "          )\n",
       "          (intermediate): BertIntermediate(\n",
       "            (dense): Linear(in_features=768, out_features=3072, bias=True)\n",
       "            (intermediate_act_fn): GELUActivation()\n",
       "          )\n",
       "          (output): BertOutput(\n",
       "            (dense): Linear(in_features=3072, out_features=768, bias=True)\n",
       "            (LayerNorm): LayerNorm((768,), eps=1e-12, elementwise_affine=True)\n",
       "            (dropout): Dropout(p=0.1, inplace=False)\n",
       "          )\n",
       "        )\n",
       "        (6): BertLayer(\n",
       "          (attention): BertAttention(\n",
       "            (self): BertSelfAttention(\n",
       "              (query): Linear(in_features=768, out_features=768, bias=True)\n",
       "              (key): Linear(in_features=768, out_features=768, bias=True)\n",
       "              (value): Linear(in_features=768, out_features=768, bias=True)\n",
       "              (dropout): Dropout(p=0.1, inplace=False)\n",
       "            )\n",
       "            (output): BertSelfOutput(\n",
       "              (dense): Linear(in_features=768, out_features=768, bias=True)\n",
       "              (LayerNorm): LayerNorm((768,), eps=1e-12, elementwise_affine=True)\n",
       "              (dropout): Dropout(p=0.1, inplace=False)\n",
       "            )\n",
       "          )\n",
       "          (intermediate): BertIntermediate(\n",
       "            (dense): Linear(in_features=768, out_features=3072, bias=True)\n",
       "            (intermediate_act_fn): GELUActivation()\n",
       "          )\n",
       "          (output): BertOutput(\n",
       "            (dense): Linear(in_features=3072, out_features=768, bias=True)\n",
       "            (LayerNorm): LayerNorm((768,), eps=1e-12, elementwise_affine=True)\n",
       "            (dropout): Dropout(p=0.1, inplace=False)\n",
       "          )\n",
       "        )\n",
       "        (7): BertLayer(\n",
       "          (attention): BertAttention(\n",
       "            (self): BertSelfAttention(\n",
       "              (query): Linear(in_features=768, out_features=768, bias=True)\n",
       "              (key): Linear(in_features=768, out_features=768, bias=True)\n",
       "              (value): Linear(in_features=768, out_features=768, bias=True)\n",
       "              (dropout): Dropout(p=0.1, inplace=False)\n",
       "            )\n",
       "            (output): BertSelfOutput(\n",
       "              (dense): Linear(in_features=768, out_features=768, bias=True)\n",
       "              (LayerNorm): LayerNorm((768,), eps=1e-12, elementwise_affine=True)\n",
       "              (dropout): Dropout(p=0.1, inplace=False)\n",
       "            )\n",
       "          )\n",
       "          (intermediate): BertIntermediate(\n",
       "            (dense): Linear(in_features=768, out_features=3072, bias=True)\n",
       "            (intermediate_act_fn): GELUActivation()\n",
       "          )\n",
       "          (output): BertOutput(\n",
       "            (dense): Linear(in_features=3072, out_features=768, bias=True)\n",
       "            (LayerNorm): LayerNorm((768,), eps=1e-12, elementwise_affine=True)\n",
       "            (dropout): Dropout(p=0.1, inplace=False)\n",
       "          )\n",
       "        )\n",
       "        (8): BertLayer(\n",
       "          (attention): BertAttention(\n",
       "            (self): BertSelfAttention(\n",
       "              (query): Linear(in_features=768, out_features=768, bias=True)\n",
       "              (key): Linear(in_features=768, out_features=768, bias=True)\n",
       "              (value): Linear(in_features=768, out_features=768, bias=True)\n",
       "              (dropout): Dropout(p=0.1, inplace=False)\n",
       "            )\n",
       "            (output): BertSelfOutput(\n",
       "              (dense): Linear(in_features=768, out_features=768, bias=True)\n",
       "              (LayerNorm): LayerNorm((768,), eps=1e-12, elementwise_affine=True)\n",
       "              (dropout): Dropout(p=0.1, inplace=False)\n",
       "            )\n",
       "          )\n",
       "          (intermediate): BertIntermediate(\n",
       "            (dense): Linear(in_features=768, out_features=3072, bias=True)\n",
       "            (intermediate_act_fn): GELUActivation()\n",
       "          )\n",
       "          (output): BertOutput(\n",
       "            (dense): Linear(in_features=3072, out_features=768, bias=True)\n",
       "            (LayerNorm): LayerNorm((768,), eps=1e-12, elementwise_affine=True)\n",
       "            (dropout): Dropout(p=0.1, inplace=False)\n",
       "          )\n",
       "        )\n",
       "        (9): BertLayer(\n",
       "          (attention): BertAttention(\n",
       "            (self): BertSelfAttention(\n",
       "              (query): Linear(in_features=768, out_features=768, bias=True)\n",
       "              (key): Linear(in_features=768, out_features=768, bias=True)\n",
       "              (value): Linear(in_features=768, out_features=768, bias=True)\n",
       "              (dropout): Dropout(p=0.1, inplace=False)\n",
       "            )\n",
       "            (output): BertSelfOutput(\n",
       "              (dense): Linear(in_features=768, out_features=768, bias=True)\n",
       "              (LayerNorm): LayerNorm((768,), eps=1e-12, elementwise_affine=True)\n",
       "              (dropout): Dropout(p=0.1, inplace=False)\n",
       "            )\n",
       "          )\n",
       "          (intermediate): BertIntermediate(\n",
       "            (dense): Linear(in_features=768, out_features=3072, bias=True)\n",
       "            (intermediate_act_fn): GELUActivation()\n",
       "          )\n",
       "          (output): BertOutput(\n",
       "            (dense): Linear(in_features=3072, out_features=768, bias=True)\n",
       "            (LayerNorm): LayerNorm((768,), eps=1e-12, elementwise_affine=True)\n",
       "            (dropout): Dropout(p=0.1, inplace=False)\n",
       "          )\n",
       "        )\n",
       "        (10): BertLayer(\n",
       "          (attention): BertAttention(\n",
       "            (self): BertSelfAttention(\n",
       "              (query): Linear(in_features=768, out_features=768, bias=True)\n",
       "              (key): Linear(in_features=768, out_features=768, bias=True)\n",
       "              (value): Linear(in_features=768, out_features=768, bias=True)\n",
       "              (dropout): Dropout(p=0.1, inplace=False)\n",
       "            )\n",
       "            (output): BertSelfOutput(\n",
       "              (dense): Linear(in_features=768, out_features=768, bias=True)\n",
       "              (LayerNorm): LayerNorm((768,), eps=1e-12, elementwise_affine=True)\n",
       "              (dropout): Dropout(p=0.1, inplace=False)\n",
       "            )\n",
       "          )\n",
       "          (intermediate): BertIntermediate(\n",
       "            (dense): Linear(in_features=768, out_features=3072, bias=True)\n",
       "            (intermediate_act_fn): GELUActivation()\n",
       "          )\n",
       "          (output): BertOutput(\n",
       "            (dense): Linear(in_features=3072, out_features=768, bias=True)\n",
       "            (LayerNorm): LayerNorm((768,), eps=1e-12, elementwise_affine=True)\n",
       "            (dropout): Dropout(p=0.1, inplace=False)\n",
       "          )\n",
       "        )\n",
       "        (11): BertLayer(\n",
       "          (attention): BertAttention(\n",
       "            (self): BertSelfAttention(\n",
       "              (query): Linear(in_features=768, out_features=768, bias=True)\n",
       "              (key): Linear(in_features=768, out_features=768, bias=True)\n",
       "              (value): Linear(in_features=768, out_features=768, bias=True)\n",
       "              (dropout): Dropout(p=0.1, inplace=False)\n",
       "            )\n",
       "            (output): BertSelfOutput(\n",
       "              (dense): Linear(in_features=768, out_features=768, bias=True)\n",
       "              (LayerNorm): LayerNorm((768,), eps=1e-12, elementwise_affine=True)\n",
       "              (dropout): Dropout(p=0.1, inplace=False)\n",
       "            )\n",
       "          )\n",
       "          (intermediate): BertIntermediate(\n",
       "            (dense): Linear(in_features=768, out_features=3072, bias=True)\n",
       "            (intermediate_act_fn): GELUActivation()\n",
       "          )\n",
       "          (output): BertOutput(\n",
       "            (dense): Linear(in_features=3072, out_features=768, bias=True)\n",
       "            (LayerNorm): LayerNorm((768,), eps=1e-12, elementwise_affine=True)\n",
       "            (dropout): Dropout(p=0.1, inplace=False)\n",
       "          )\n",
       "        )\n",
       "      )\n",
       "    )\n",
       "    (pooler): BertPooler(\n",
       "      (dense): Linear(in_features=768, out_features=768, bias=True)\n",
       "      (activation): Tanh()\n",
       "    )\n",
       "  )\n",
       "  (dropout): Dropout(p=0.1, inplace=False)\n",
       "  (classifier): Linear(in_features=768, out_features=3, bias=True)\n",
       ")"
      ]
     },
     "execution_count": 4,
     "metadata": {},
     "output_type": "execute_result"
    }
   ],
   "source": [
    "model_mednli_bert_en.eval()\n",
    "model_mednli_bert_nl_go.eval()\n",
    "model_mednli_bert_nl_dl.eval()\n",
    "\n",
    "model_mednli_roberta_en.eval()\n",
    "model_mednli_roberta_nl_go.eval()\n",
    "model_mednli_roberta_nl_dl.eval()\n",
    "\n",
    "model_mednli_mbert_en.eval()\n",
    "model_mednli_mbert_nl_go.eval()\n",
    "model_mednli_mbert_nl_dl.eval()"
   ]
  },
  {
   "cell_type": "markdown",
   "id": "4483b4f2",
   "metadata": {},
   "source": [
    "### Load datasets and build test sets"
   ]
  },
  {
   "cell_type": "code",
   "execution_count": 5,
   "id": "fc599d50",
   "metadata": {},
   "outputs": [
    {
     "data": {
      "application/vnd.jupyter.widget-view+json": {
       "model_id": "18205358f3d847728965597ab258dd40",
       "version_major": 2,
       "version_minor": 0
      },
      "text/plain": [
       "Downloading:   0%|          | 0.00/236k [00:00<?, ?B/s]"
      ]
     },
     "metadata": {},
     "output_type": "display_data"
    },
    {
     "data": {
      "application/vnd.jupyter.widget-view+json": {
       "model_id": "76e1cb1d7f0b4161883923b28f4e1e5b",
       "version_major": 2,
       "version_minor": 0
      },
      "text/plain": [
       "Downloading:   0%|          | 0.00/112 [00:00<?, ?B/s]"
      ]
     },
     "metadata": {},
     "output_type": "display_data"
    },
    {
     "data": {
      "application/vnd.jupyter.widget-view+json": {
       "model_id": "593bed53df554aaaa9bf3681152feec7",
       "version_major": 2,
       "version_minor": 0
      },
      "text/plain": [
       "Downloading:   0%|          | 0.00/254 [00:00<?, ?B/s]"
      ]
     },
     "metadata": {},
     "output_type": "display_data"
    },
    {
     "data": {
      "application/vnd.jupyter.widget-view+json": {
       "model_id": "bd142cb3097440d4a1dd2b9553c5b299",
       "version_major": 2,
       "version_minor": 0
      },
      "text/plain": [
       "Downloading:   0%|          | 0.00/608 [00:00<?, ?B/s]"
      ]
     },
     "metadata": {},
     "output_type": "display_data"
    }
   ],
   "source": [
    "from sick_nl.code.models.bert_finetune import BERT_DATASET, BERTFineTuner\n",
    "from sick_nl.code.loaders.sick import load_sick_en, load_sick_nl\n",
    "from sick_nl.code.loaders.mednli import load_mednli_en, load_mednli_nl_go, load_mednli_nl_dl\n",
    "from sick_nl.code.config import (models_folder, results_folder, bert, bert_nl,\n",
    "                                 roberta, roberta_nl, mbert)\n",
    "from sick_nl.code.loaders.nli_models import load_bert_nli_model\n",
    "from transformers import BertTokenizer, BertForSequenceClassification\n",
    "from transformers import RobertaTokenizer, RobertaForSequenceClassification\n",
    "\n",
    "#Load datasets\n",
    "nl_sick = load_sick_nl()\n",
    "en_sick = load_sick_en()\n",
    "nl_mednli = load_mednli_nl_dl()\n",
    "en_mednli = load_mednli_en()\n",
    "\n",
    "#Init tokenizers\n",
    "tokenizer_mbert = BertTokenizer.from_pretrained(mbert)\n",
    "tokenizer_bertnl = BertTokenizer.from_pretrained(bert_nl)\n",
    "tokenizer_bert = BertTokenizer.from_pretrained(bert)\n",
    "tokenizer_roberta = RobertaTokenizer.from_pretrained(roberta)\n",
    "tokenizer_robertanl = RobertaTokenizer.from_pretrained(roberta_nl)\n",
    "\n",
    "#Init BERT test sets SICK\n",
    "eval_dataset_sick_bert = BERT_DATASET(en_sick.test_data, tokenizer_bert)\n",
    "eval_dataset_sick_bert_nl = BERT_DATASET(nl_sick.test_data, tokenizer_bertnl)\n",
    "\n",
    "eval_dataset_sick_roberta = BERT_DATASET(en_sick.test_data, tokenizer_roberta)\n",
    "eval_dataset_sick_roberta_nl = BERT_DATASET(nl_sick.test_data, tokenizer_robertanl)\n",
    "\n",
    "eval_dataset_sick_mbert = BERT_DATASET(en_sick.test_data, tokenizer_mbert)\n",
    "eval_dataset_sick_mbert_nl = BERT_DATASET(nl_sick.test_data, tokenizer_mbert)\n",
    "\n",
    "#Init BERT test sets mednli\n",
    "eval_dataset_mednli_bert = BERT_DATASET(en_mednli.test_data, tokenizer_bert)\n",
    "eval_dataset_mednli_bert_nl = BERT_DATASET(nl_mednli.test_data, tokenizer_bertnl)\n",
    "\n",
    "eval_dataset_mednli_roberta = BERT_DATASET(en_mednli.test_data, tokenizer_roberta)\n",
    "eval_dataset_mednli_roberta_nl = BERT_DATASET(nl_mednli.test_data, tokenizer_robertanl)\n",
    "\n",
    "eval_dataset_mednli_mbert = BERT_DATASET(en_mednli.test_data, tokenizer_mbert)\n",
    "eval_dataset_mednli_mbert_nl = BERT_DATASET(nl_mednli.test_data, tokenizer_mbert)"
   ]
  },
  {
   "cell_type": "markdown",
   "id": "b6dc282f",
   "metadata": {},
   "source": [
    "### Get validation results"
   ]
  },
  {
   "cell_type": "code",
   "execution_count": 6,
   "id": "320dafbf",
   "metadata": {},
   "outputs": [
    {
     "name": "stdout",
     "output_type": "stream",
     "text": [
      "SICK results: \n",
      "\n",
      "\n",
      "Results BERT english for SICK dataset: {'eval_loss': 0.9193987846374512, 'eval_accuracy': 0.8767676767676768, 'eval_f1': 0.8670968294723543, 'eval_precision': 0.8671805819101834, 'eval_recall': 0.868364789772238, 'eval_runtime': 5.1145, 'eval_samples_per_second': 96.783, 'eval_steps_per_second': 2.151, 'epoch': 20.0}\n",
      "\n",
      "Results BERT dutch for SICK-NL dataset: {'eval_loss': 1.3185232877731323, 'eval_accuracy': 0.8383838383838383, 'eval_f1': 0.8328088484772533, 'eval_precision': 0.8478736611745891, 'eval_recall': 0.820492841494295, 'eval_runtime': 5.2083, 'eval_samples_per_second': 95.04, 'eval_steps_per_second': 2.112, 'epoch': 20.0}\n",
      "\n",
      "\n",
      "Results Roberta (english) for SICK dataset: {'eval_loss': 0.5911558270454407, 'eval_accuracy': 0.8929292929292929, 'eval_f1': 0.887469255385938, 'eval_precision': 0.8771017871017871, 'eval_recall': 0.8999767378795999, 'eval_runtime': 5.6964, 'eval_samples_per_second': 86.897, 'eval_steps_per_second': 1.931, 'epoch': 20.0}\n",
      "\n",
      "Results RobBERT (dutch) for SICK-NL dataset: {'eval_loss': 0.6315661072731018, 'eval_accuracy': 0.8262626262626263, 'eval_f1': 0.8276232903946091, 'eval_precision': 0.8203559211261015, 'eval_recall': 0.8503050422252466, 'eval_runtime': 5.3991, 'eval_samples_per_second': 91.681, 'eval_steps_per_second': 2.037, 'epoch': 20.0}\n",
      "\n",
      "\n",
      "Results mbert (english) for SICK dataset: {'eval_loss': 0.5104982256889343, 'eval_accuracy': 0.8505050505050505, 'eval_f1': 0.8466421965260573, 'eval_precision': 0.8537285938393534, 'eval_recall': 0.842566502383053, 'eval_runtime': 7.7797, 'eval_samples_per_second': 63.628, 'eval_steps_per_second': 1.414, 'epoch': 20.0}\n",
      "\n",
      "Results mbert (dutch) for SICK-NL dataset: {'eval_loss': 1.3074867725372314, 'eval_accuracy': 0.8242424242424242, 'eval_f1': 0.8128845567205366, 'eval_precision': 0.8282577964796015, 'eval_recall': 0.8007415370454818, 'eval_runtime': 7.7247, 'eval_samples_per_second': 64.08, 'eval_steps_per_second': 1.424, 'epoch': 20.0}\n",
      "\n",
      "\n",
      "\n",
      "\n",
      "MEDNLI results: \n",
      "\n",
      "\n",
      "\n",
      "Results BERT english for MEDNLI dataset: {'eval_loss': 1.3924002647399902, 'eval_accuracy': 0.8132183908045977, 'eval_f1': 0.8128269873178735, 'eval_precision': 0.8125342037584012, 'eval_recall': 0.8132183908045977, 'eval_runtime': 13.9719, 'eval_samples_per_second': 99.628, 'eval_steps_per_second': 2.076, 'epoch': 20.0}\n",
      "\n",
      "\n",
      "Results BERT dutch translated with Google Translate for MEDNLI dataset: {'eval_loss': 1.8840805292129517, 'eval_accuracy': 0.7777777777777778, 'eval_f1': 0.7767166055077962, 'eval_precision': 0.776259641761979, 'eval_recall': 0.7777777777777778, 'eval_runtime': 14.1324, 'eval_samples_per_second': 98.072, 'eval_steps_per_second': 2.052, 'epoch': 20.0}\n",
      "\n",
      "\n",
      "Results BERT dutch translated with DeepL Translate for MEDNLI dataset: {'eval_loss': 2.0634214878082275, 'eval_accuracy': 0.7688984881209503, 'eval_f1': 0.7685879268472383, 'eval_precision': 0.7685459411484704, 'eval_recall': 0.7688984881209503, 'eval_runtime': 14.1595, 'eval_samples_per_second': 98.097, 'eval_steps_per_second': 2.048, 'epoch': 20.0}\n",
      "\n",
      "\n",
      "Results RoBERTa english for MEDNLI dataset: {'eval_loss': 1.0071041584014893, 'eval_accuracy': 0.8362068965517241, 'eval_f1': 0.8365926763775516, 'eval_precision': 0.8372263528461228, 'eval_recall': 0.8362068965517242, 'eval_runtime': 15.4077, 'eval_samples_per_second': 90.344, 'eval_steps_per_second': 1.882, 'epoch': 20.0}\n",
      "\n",
      "\n",
      "Results RobBERT dutch translated with Google Translate for MEDNLI dataset: {'eval_loss': 1.6560019254684448, 'eval_accuracy': 0.7734487734487735, 'eval_f1': 0.7732546687974198, 'eval_precision': 0.7730987911139543, 'eval_recall': 0.7734487734487735, 'eval_runtime': 14.6803, 'eval_samples_per_second': 94.412, 'eval_steps_per_second': 1.975, 'epoch': 20.0}\n",
      "\n",
      "\n",
      "Results RobBERT dutch translated with DeepL Translate for MEDNLI dataset: {'eval_loss': 1.7945524454116821, 'eval_accuracy': 0.7768178545716342, 'eval_f1': 0.7764852705754004, 'eval_precision': 0.7762486234587426, 'eval_recall': 0.7768178545716343, 'eval_runtime': 14.7297, 'eval_samples_per_second': 94.299, 'eval_steps_per_second': 1.969, 'epoch': 20.0}\n",
      "\n",
      "\n",
      "Results mBERT english for MEDNLI dataset: {'eval_loss': 1.4212855100631714, 'eval_accuracy': 0.8139367816091954, 'eval_f1': 0.8129962465350945, 'eval_precision': 0.8129569694129293, 'eval_recall': 0.8139367816091955, 'eval_runtime': 20.9126, 'eval_samples_per_second': 66.563, 'eval_steps_per_second': 1.387, 'epoch': 20.0}\n",
      "\n",
      "\n",
      "Results mBERT dutch translated with Google Translate for MEDNLI dataset: {'eval_loss': 1.3322521448135376, 'eval_accuracy': 0.79004329004329, 'eval_f1': 0.7894000704982375, 'eval_precision': 0.7901101672091343, 'eval_recall': 0.7900432900432901, 'eval_runtime': 20.9201, 'eval_samples_per_second': 66.252, 'eval_steps_per_second': 1.386, 'epoch': 20.0}\n",
      "\n",
      "\n",
      "Results mBERT dutch translated with DeepL Translate for MEDNLI dataset: {'eval_loss': 1.1882412433624268, 'eval_accuracy': 0.7832973362131029, 'eval_f1': 0.7822750522078629, 'eval_precision': 0.7825877686879038, 'eval_recall': 0.7832973362131028, 'eval_runtime': 21.0447, 'eval_samples_per_second': 66.002, 'eval_steps_per_second': 1.378, 'epoch': 20.0}\n",
      "\n"
     ]
    }
   ],
   "source": [
    "import pickle\n",
    "\n",
    "print(\"SICK results: \\n\\n\")\n",
    "with open(\"sick_nl/model_data/results/results_new_torch_ver/results_SICK_bert-base-cased.p\", 'rb') as f:\n",
    "    results = pickle.load(f)\n",
    "print(f\"Results BERT english for SICK dataset: {results}\\n\")\n",
    "with open(\"sick_nl/model_data/results/results_new_torch_ver/results_SICK_NL_bert-base-dutch-cased.p\", 'rb') as f:\n",
    "    results = pickle.load(f)\n",
    "print(f\"Results BERT dutch for SICK-NL dataset: {results}\\n\")\n",
    "\n",
    "with open(\"sick_nl/model_data/results/results_new_torch_ver/results_SICK_roberta-base.p\", 'rb') as f:\n",
    "    results = pickle.load(f)\n",
    "print(f\"\\nResults Roberta (english) for SICK dataset: {results}\\n\")\n",
    "with open(\"sick_nl/model_data/results/results_new_torch_ver/results_SICK_nl_robbert-v2-dutch-base.p\", 'rb') as f:\n",
    "    results = pickle.load(f)\n",
    "print(f\"Results RobBERT (dutch) for SICK-NL dataset: {results}\\n\")\n",
    "\n",
    "with open(\"sick_nl/model_data/results/results_new_torch_ver/results_SICK_bert-base-multilingual-cased.p\", 'rb') as f:\n",
    "    results = pickle.load(f)\n",
    "print(f\"\\nResults mbert (english) for SICK dataset: {results}\\n\")\n",
    "with open(\"sick_nl/model_data/results/results_new_torch_ver/results_SICK_nl_bert-base-multilingual-cased.p\", 'rb') as f:\n",
    "    results = pickle.load(f)\n",
    "print(f\"Results mbert (dutch) for SICK-NL dataset: {results}\\n\")\n",
    "\n",
    "\n",
    "print(\"\\n\\n\\nMEDNLI results: \\n\\n\")\n",
    "with open(\"sick_nl/model_data/results/results_new_torch_ver/results_MEDNLI_bert-base-cased.p\", 'rb') as f:\n",
    "    results = pickle.load(f)\n",
    "print(f\"\\nResults BERT english for MEDNLI dataset: {results}\\n\")\n",
    "with open(\"sick_nl/model_data/results/results_new_torch_ver/results_MEDNLI_NL_go_bert-base-dutch-cased.p\", 'rb') as f:\n",
    "    results = pickle.load(f)\n",
    "print(f\"\\nResults BERT dutch translated with Google Translate for MEDNLI dataset: {results}\\n\")\n",
    "with open(\"sick_nl/model_data/results/results_new_torch_ver/results_MEDNLI_NL_dl_bert-base-dutch-cased.p\", 'rb') as f:\n",
    "    results = pickle.load(f)\n",
    "print(f\"\\nResults BERT dutch translated with DeepL Translate for MEDNLI dataset: {results}\\n\")\n",
    "\n",
    "with open(\"sick_nl/model_data/results/results_new_torch_ver/results_MEDNLI_roberta-base.p\", 'rb') as f:\n",
    "    results = pickle.load(f)\n",
    "print(f\"\\nResults RoBERTa english for MEDNLI dataset: {results}\\n\")\n",
    "with open(\"sick_nl/model_data/results/results_new_torch_ver/results_MEDNLI_NL_go_robbert-v2-dutch-base.p\", 'rb') as f:\n",
    "    results = pickle.load(f)\n",
    "print(f\"\\nResults RobBERT dutch translated with Google Translate for MEDNLI dataset: {results}\\n\")\n",
    "with open(\"sick_nl/model_data/results/results_new_torch_ver/results_MEDNLI_NL_dl_robbert-v2-dutch-base.p\", 'rb') as f:\n",
    "    results = pickle.load(f)\n",
    "print(f\"\\nResults RobBERT dutch translated with DeepL Translate for MEDNLI dataset: {results}\\n\")\n",
    "\n",
    "with open(\"sick_nl/model_data/results/results_new_torch_ver/results_MEDNLI_bert-base-multilingual-cased.p\", 'rb') as f:\n",
    "    results = pickle.load(f)\n",
    "print(f\"\\nResults mBERT english for MEDNLI dataset: {results}\\n\")\n",
    "with open(\"sick_nl/model_data/results/results_new_torch_ver/results_MEDNLI_NL_go_bert-base-multilingual-cased.p\", 'rb') as f:\n",
    "    results = pickle.load(f)\n",
    "print(f\"\\nResults mBERT dutch translated with Google Translate for MEDNLI dataset: {results}\\n\")\n",
    "with open(\"sick_nl/model_data/results/results_new_torch_ver/results_MEDNLI_NL_dl_bert-base-multilingual-cased.p\", 'rb') as f:\n",
    "    results = pickle.load(f)\n",
    "print(f\"\\nResults mBERT dutch translated with DeepL Translate for MEDNLI dataset: {results}\\n\")"
   ]
  },
  {
   "cell_type": "code",
   "execution_count": 7,
   "id": "693584c2",
   "metadata": {},
   "outputs": [
    {
     "name": "stdout",
     "output_type": "stream",
     "text": [
      "SICK results: \n",
      "\n",
      "\n",
      "Results BERT english for SICK dataset: {'eval_loss': 0.568435549736023, 'eval_accuracy': 0.8282828282828283, 'eval_f1': 0.8278368377431278, 'eval_precision': 0.8155173991654733, 'eval_recall': 0.8481313016424039, 'eval_runtime': 5.1434, 'eval_samples_per_second': 96.24, 'eval_steps_per_second': 2.139, 'epoch': 10.0}\n",
      "\n",
      "Results BERT dutch for SICK-NL dataset: {'eval_loss': 0.8265621662139893, 'eval_accuracy': 0.8080808080808081, 'eval_f1': 0.8048251215522844, 'eval_precision': 0.8116421286711142, 'eval_recall': 0.8014801765490954, 'eval_runtime': 5.2, 'eval_samples_per_second': 95.192, 'eval_steps_per_second': 2.115, 'epoch': 10.0}\n",
      "\n",
      "\n",
      "Results Roberta (english) for SICK dataset: {'eval_loss': 0.4322756826877594, 'eval_accuracy': 0.8787878787878788, 'eval_f1': 0.8776171181098599, 'eval_precision': 0.8659536541889482, 'eval_recall': 0.8940368938865255, 'eval_runtime': 5.7419, 'eval_samples_per_second': 86.208, 'eval_steps_per_second': 1.916, 'epoch': 10.0}\n",
      "\n",
      "Results RobBERT (dutch) for SICK-NL dataset: {'eval_loss': 0.7211852669715881, 'eval_accuracy': 0.7777777777777778, 'eval_f1': 0.7759127372030599, 'eval_precision': 0.7634315227491671, 'eval_recall': 0.8148924071434221, 'eval_runtime': 5.4374, 'eval_samples_per_second': 91.037, 'eval_steps_per_second': 2.023, 'epoch': 10.0}\n",
      "\n",
      "\n",
      "Results mbert (english) for SICK dataset: {'eval_loss': 0.5719508528709412, 'eval_accuracy': 0.8565656565656565, 'eval_f1': 0.8463067659496231, 'eval_precision': 0.8389488697833181, 'eval_recall': 0.8544357919326592, 'eval_runtime': 7.7141, 'eval_samples_per_second': 64.168, 'eval_steps_per_second': 1.426, 'epoch': 10.0}\n",
      "\n",
      "Results mbert (dutch) for SICK-NL dataset: {'eval_loss': 0.6597867012023926, 'eval_accuracy': 0.8121212121212121, 'eval_f1': 0.8085552218885553, 'eval_precision': 0.8159433260495605, 'eval_recall': 0.803852655789902, 'eval_runtime': 7.7735, 'eval_samples_per_second': 63.678, 'eval_steps_per_second': 1.415, 'epoch': 10.0}\n",
      "\n",
      "\n",
      "\n",
      "\n",
      "MEDNLI results: \n",
      "\n",
      "\n",
      "\n",
      "Results BERT english for MEDNLI dataset: {'eval_loss': 0.5707864165306091, 'eval_accuracy': 0.7873563218390804, 'eval_f1': 0.7867065674012478, 'eval_precision': 0.7875284646085992, 'eval_recall': 0.7873563218390803, 'eval_runtime': 14.135, 'eval_samples_per_second': 98.479, 'eval_steps_per_second': 2.052, 'epoch': 10.0}\n",
      "\n",
      "\n",
      "Results BERT dutch translated with Google Translate for MEDNLI dataset: {'eval_loss': 0.6802985668182373, 'eval_accuracy': 0.7503607503607503, 'eval_f1': 0.7484644370234174, 'eval_precision': 0.7488856024177944, 'eval_recall': 0.7503607503607505, 'eval_runtime': 14.2729, 'eval_samples_per_second': 97.107, 'eval_steps_per_second': 2.032, 'epoch': 10.0}\n",
      "\n",
      "\n",
      "Results BERT dutch translated with DeepL Translate for MEDNLI dataset: {'eval_loss': 0.6568514108657837, 'eval_accuracy': 0.7595392368610511, 'eval_f1': 0.7588912526942352, 'eval_precision': 0.7595603389348119, 'eval_recall': 0.7595392368610511, 'eval_runtime': 14.2168, 'eval_samples_per_second': 97.702, 'eval_steps_per_second': 2.04, 'epoch': 10.0}\n",
      "\n",
      "\n",
      "Results RoBERTa english for MEDNLI dataset: {'eval_loss': 0.5073676705360413, 'eval_accuracy': 0.8038793103448276, 'eval_f1': 0.8033239828771896, 'eval_precision': 0.8040817940709656, 'eval_recall': 0.8038793103448275, 'eval_runtime': 15.5279, 'eval_samples_per_second': 89.645, 'eval_steps_per_second': 1.868, 'epoch': 10.0}\n",
      "\n",
      "\n",
      "Results RobBERT dutch translated with Google Translate for MEDNLI dataset: {'eval_loss': 0.6520465612411499, 'eval_accuracy': 0.7402597402597403, 'eval_f1': 0.7367607655698838, 'eval_precision': 0.7370529065602764, 'eval_recall': 0.7402597402597403, 'eval_runtime': 15.0294, 'eval_samples_per_second': 92.219, 'eval_steps_per_second': 1.93, 'epoch': 10.0}\n",
      "\n",
      "\n",
      "Results RobBERT dutch translated with DeepL Translate for MEDNLI dataset: {'eval_loss': 0.6240132451057434, 'eval_accuracy': 0.7530597552195825, 'eval_f1': 0.7518627450051852, 'eval_precision': 0.7532301548207353, 'eval_recall': 0.7530597552195823, 'eval_runtime': 14.7091, 'eval_samples_per_second': 94.432, 'eval_steps_per_second': 1.972, 'epoch': 10.0}\n",
      "\n",
      "\n",
      "Results mBERT english for MEDNLI dataset: {'eval_loss': 0.607452929019928, 'eval_accuracy': 0.7866379310344828, 'eval_f1': 0.7861226620624256, 'eval_precision': 0.7870063606557971, 'eval_recall': 0.7866379310344828, 'eval_runtime': 20.9345, 'eval_samples_per_second': 66.493, 'eval_steps_per_second': 1.385, 'epoch': 10.0}\n",
      "\n",
      "\n",
      "Results mBERT dutch translated with Google Translate for MEDNLI dataset: {'eval_loss': 0.6463117003440857, 'eval_accuracy': 0.7474747474747475, 'eval_f1': 0.7431858884244485, 'eval_precision': 0.7465576175253594, 'eval_recall': 0.7474747474747474, 'eval_runtime': 21.2066, 'eval_samples_per_second': 65.357, 'eval_steps_per_second': 1.367, 'epoch': 10.0}\n",
      "\n",
      "\n",
      "Results mBERT dutch translated with DeepL Translate for MEDNLI dataset: {'eval_loss': 0.6754910349845886, 'eval_accuracy': 0.7379409647228222, 'eval_f1': 0.7326755487579734, 'eval_precision': 0.74177864641599, 'eval_recall': 0.7379409647228222, 'eval_runtime': 21.2025, 'eval_samples_per_second': 65.511, 'eval_steps_per_second': 1.368, 'epoch': 10.0}\n",
      "\n"
     ]
    }
   ],
   "source": [
    "import pickle\n",
    "\n",
    "print(\"SICK results: \\n\\n\")\n",
    "with open(\"sick_nl/model_data/results/results_selected_on_loss/results_SICK_bert-base-cased.p\", 'rb') as f:\n",
    "    results = pickle.load(f)\n",
    "print(f\"Results BERT english for SICK dataset: {results}\\n\")\n",
    "with open(\"sick_nl/model_data/results/results_selected_on_loss/results_SICK_NL_bert-base-dutch-cased.p\", 'rb') as f:\n",
    "    results = pickle.load(f)\n",
    "print(f\"Results BERT dutch for SICK-NL dataset: {results}\\n\")\n",
    "\n",
    "with open(\"sick_nl/model_data/results/results_selected_on_loss/results_SICK_roberta-base.p\", 'rb') as f:\n",
    "    results = pickle.load(f)\n",
    "print(f\"\\nResults Roberta (english) for SICK dataset: {results}\\n\")\n",
    "with open(\"sick_nl/model_data/results/results_selected_on_loss/results_SICK_nl_robbert-v2-dutch-base.p\", 'rb') as f:\n",
    "    results = pickle.load(f)\n",
    "print(f\"Results RobBERT (dutch) for SICK-NL dataset: {results}\\n\")\n",
    "\n",
    "with open(\"sick_nl/model_data/results/results_selected_on_loss/results_SICK_bert-base-multilingual-cased.p\", 'rb') as f:\n",
    "    results = pickle.load(f)\n",
    "print(f\"\\nResults mbert (english) for SICK dataset: {results}\\n\")\n",
    "with open(\"sick_nl/model_data/results/results_selected_on_loss/results_SICK_nl_bert-base-multilingual-cased.p\", 'rb') as f:\n",
    "    results = pickle.load(f)\n",
    "print(f\"Results mbert (dutch) for SICK-NL dataset: {results}\\n\")\n",
    "\n",
    "\n",
    "print(\"\\n\\n\\nMEDNLI results: \\n\\n\")\n",
    "with open(\"sick_nl/model_data/results/results_selected_on_loss/results_MEDNLI_bert-base-cased.p\", 'rb') as f:\n",
    "    results = pickle.load(f)\n",
    "print(f\"\\nResults BERT english for MEDNLI dataset: {results}\\n\")\n",
    "with open(\"sick_nl/model_data/results/results_selected_on_loss/results_MEDNLI_NL_go_bert-base-dutch-cased.p\", 'rb') as f:\n",
    "    results = pickle.load(f)\n",
    "print(f\"\\nResults BERT dutch translated with Google Translate for MEDNLI dataset: {results}\\n\")\n",
    "with open(\"sick_nl/model_data/results/results_selected_on_loss/results_MEDNLI_NL_dl_bert-base-dutch-cased.p\", 'rb') as f:\n",
    "    results = pickle.load(f)\n",
    "print(f\"\\nResults BERT dutch translated with DeepL Translate for MEDNLI dataset: {results}\\n\")\n",
    "\n",
    "with open(\"sick_nl/model_data/results/results_selected_on_loss/results_MEDNLI_roberta-base.p\", 'rb') as f:\n",
    "    results = pickle.load(f)\n",
    "print(f\"\\nResults RoBERTa english for MEDNLI dataset: {results}\\n\")\n",
    "with open(\"sick_nl/model_data/results/results_selected_on_loss/results_MEDNLI_NL_go_robbert-v2-dutch-base.p\", 'rb') as f:\n",
    "    results = pickle.load(f)\n",
    "print(f\"\\nResults RobBERT dutch translated with Google Translate for MEDNLI dataset: {results}\\n\")\n",
    "with open(\"sick_nl/model_data/results/results_selected_on_loss/results_MEDNLI_NL_dl_robbert-v2-dutch-base.p\", 'rb') as f:\n",
    "    results = pickle.load(f)\n",
    "print(f\"\\nResults RobBERT dutch translated with DeepL Translate for MEDNLI dataset: {results}\\n\")\n",
    "\n",
    "with open(\"sick_nl/model_data/results/results_selected_on_loss/results_MEDNLI_bert-base-multilingual-cased.p\", 'rb') as f:\n",
    "    results = pickle.load(f)\n",
    "print(f\"\\nResults mBERT english for MEDNLI dataset: {results}\\n\")\n",
    "with open(\"sick_nl/model_data/results/results_selected_on_loss/results_MEDNLI_NL_go_bert-base-multilingual-cased.p\", 'rb') as f:\n",
    "    results = pickle.load(f)\n",
    "print(f\"\\nResults mBERT dutch translated with Google Translate for MEDNLI dataset: {results}\\n\")\n",
    "with open(\"sick_nl/model_data/results/results_selected_on_loss/results_MEDNLI_NL_dl_bert-base-multilingual-cased.p\", 'rb') as f:\n",
    "    results = pickle.load(f)\n",
    "print(f\"\\nResults mBERT dutch translated with DeepL Translate for MEDNLI dataset: {results}\\n\")"
   ]
  },
  {
   "cell_type": "markdown",
   "id": "d7ef8300",
   "metadata": {},
   "source": [
    "### Function to make predictions\n",
    "set print_individual to True if you want to print the predictions for each sentence"
   ]
  },
  {
   "cell_type": "code",
   "execution_count": 6,
   "id": "9c101050",
   "metadata": {},
   "outputs": [],
   "source": [
    "from sklearn.metrics import confusion_matrix, ConfusionMatrixDisplay\n",
    "from sklearn.metrics import accuracy_score, precision_recall_fscore_support\n",
    "import numpy as np\n",
    "import matplotlib.pyplot as plt\n",
    "\n",
    "def make_predictions(bert_data, sentences, model, tokenizer, name, print_individual):\n",
    "    evaluating = True\n",
    "    tuner = BERTFineTuner(name, tokenizer, model, [], bert_data,\"\", evaluating)\n",
    "    premises = [i[0] for i in sentences] \n",
    "    hypothesis = [i[1] for i in sentences] \n",
    "    model.eval()\n",
    "    predictions = tuner.evaluate()\n",
    "    labels = [\"Contradiction\", \"Neutral\", \"Entailment\"]\n",
    "    predictions[\"eval_trues\"] = [labels[i] for i in predictions[\"eval_trues\"]]\n",
    "    predictions[\"eval_predictions\"] = [labels[i] for i in predictions[\"eval_predictions\"]]\n",
    "    conf_matrix = confusion_matrix(predictions[\"eval_trues\"], predictions[\"eval_predictions\"], labels=labels)\n",
    "    disp = ConfusionMatrixDisplay(confusion_matrix=conf_matrix, display_labels=labels)\n",
    "    disp.plot()\n",
    "    plt.show()\n",
    "    results = zip(predictions[\"eval_trues\"], predictions[\"eval_predictions\"], premises, hypothesis, predictions['eval_probabilities'])\n",
    "    print(f\"\\nTotal scores: \\neval_loss: {predictions['eval_loss']} \\t eval_accuracy: {predictions['eval_accuracy']} \\t eval_f1: {predictions['eval_f1']} \\t eval_precision: {predictions['eval_precision']} \\t eval_recall: {predictions['eval_recall']}\\n\")\n",
    "    print(conf_matrix)\n",
    "    if print_individual:\n",
    "        print(\"\\nIndividual predictions: \\n\")\n",
    "        for (i, (ground_truth, prediction, premise, hypothesis, probabilities)) in enumerate(results):\n",
    "            print(ground_truth, prediction, premise, hypothesis, probabilities)\n",
    "            print(f\"Premise: {premise} \\nHypothesis: {hypothesis}\\nPrediction: {labels[prediction]}\\nGround truth: {labels[ground_truth]}\\nProbabilities: Contradiction: {probabilities[0]}\\tNeutral: {probabilities[1]}\\tEntailment: {probabilities[2]}\\n\\n\")\n",
    "\n"
   ]
  },
  {
   "cell_type": "markdown",
   "id": "41a4557b",
   "metadata": {},
   "source": [
    "### Make actual predictions on test set"
   ]
  },
  {
   "cell_type": "code",
   "execution_count": 7,
   "id": "9e6f5ce7",
   "metadata": {
    "scrolled": false
   },
   "outputs": [
    {
     "name": "stderr",
     "output_type": "stream",
     "text": [
      "***** Running Evaluation *****\n",
      "  Num examples = 4906\n",
      "  Batch size = 8\n"
     ]
    },
    {
     "name": "stdout",
     "output_type": "stream",
     "text": [
      "True\n"
     ]
    },
    {
     "data": {
      "text/html": [
       "\n",
       "    <div>\n",
       "      \n",
       "      <progress value='614' max='614' style='width:300px; height:20px; vertical-align: middle;'></progress>\n",
       "      [614/614 01:08]\n",
       "    </div>\n",
       "    "
      ],
      "text/plain": [
       "<IPython.core.display.HTML object>"
      ]
     },
     "metadata": {},
     "output_type": "display_data"
    },
    {
     "data": {
      "image/png": "[encoded data removed]",
      "text/plain": [
       "<Figure size 432x288 with 2 Axes>"
      ]
     },
     "metadata": {
      "needs_background": "light"
     },
     "output_type": "display_data"
    },
    {
     "name": "stderr",
     "output_type": "stream",
     "text": [
      "PyTorch: setting up devices\n",
      "The default value for the training argument `--report_to` will change in v5 (from all installed integrations to none). In v5, you will need to use `--report_to all` to get the same behavior as now. You should start updating your code and make this info disappear :-).\n",
      "***** Running Evaluation *****\n",
      "  Num examples = 4906\n",
      "  Batch size = 8\n"
     ]
    },
    {
     "name": "stdout",
     "output_type": "stream",
     "text": [
      "\n",
      "Total scores: \n",
      "eval_loss: 0.558751106262207 \t eval_accuracy: 0.8373420301671423 \t eval_f1: 0.834338229285487 \t eval_precision: 0.8223801116665418 \t eval_recall: 0.8526374014836019\n",
      "\n",
      "[[ 622   65   25]\n",
      " [ 124 2257  409]\n",
      " [  13  162 1229]]\n"
     ]
    },
    {
     "data": {
      "text/html": [
       "\n",
       "    <div>\n",
       "      \n",
       "      <progress value='614' max='614' style='width:300px; height:20px; vertical-align: middle;'></progress>\n",
       "      [614/614 01:07]\n",
       "    </div>\n",
       "    "
      ],
      "text/plain": [
       "<IPython.core.display.HTML object>"
      ]
     },
     "metadata": {},
     "output_type": "display_data"
    },
    {
     "data": {
      "image/png": "[encoded data removed]",
      "text/plain": [
       "<Figure size 432x288 with 2 Axes>"
      ]
     },
     "metadata": {
      "needs_background": "light"
     },
     "output_type": "display_data"
    },
    {
     "name": "stderr",
     "output_type": "stream",
     "text": [
      "PyTorch: setting up devices\n",
      "The default value for the training argument `--report_to` will change in v5 (from all installed integrations to none). In v5, you will need to use `--report_to all` to get the same behavior as now. You should start updating your code and make this info disappear :-).\n",
      "***** Running Evaluation *****\n",
      "  Num examples = 4906\n",
      "  Batch size = 8\n"
     ]
    },
    {
     "name": "stdout",
     "output_type": "stream",
     "text": [
      "\n",
      "Total scores: \n",
      "eval_loss: 0.755178689956665 \t eval_accuracy: 0.8379535262943335 \t eval_f1: 0.8335548783452441 \t eval_precision: 0.8295163064330873 \t eval_recall: 0.8388172421638652\n",
      "\n",
      "[[ 604   86   22]\n",
      " [ 102 2345  343]\n",
      " [   6  236 1162]]\n"
     ]
    },
    {
     "data": {
      "text/html": [
       "\n",
       "    <div>\n",
       "      \n",
       "      <progress value='614' max='614' style='width:300px; height:20px; vertical-align: middle;'></progress>\n",
       "      [614/614 01:06]\n",
       "    </div>\n",
       "    "
      ],
      "text/plain": [
       "<IPython.core.display.HTML object>"
      ]
     },
     "metadata": {},
     "output_type": "display_data"
    },
    {
     "data": {
      "image/png": "[encoded data removed]",
      "text/plain": [
       "<Figure size 432x288 with 2 Axes>"
      ]
     },
     "metadata": {
      "needs_background": "light"
     },
     "output_type": "display_data"
    },
    {
     "name": "stderr",
     "output_type": "stream",
     "text": [
      "PyTorch: setting up devices\n",
      "The default value for the training argument `--report_to` will change in v5 (from all installed integrations to none). In v5, you will need to use `--report_to all` to get the same behavior as now. You should start updating your code and make this info disappear :-).\n",
      "***** Running Evaluation *****\n",
      "  Num examples = 4906\n",
      "  Batch size = 8\n"
     ]
    },
    {
     "name": "stdout",
     "output_type": "stream",
     "text": [
      "\n",
      "Total scores: \n",
      "eval_loss: 0.4435070753097534 \t eval_accuracy: 0.8783122706889523 \t eval_f1: 0.8721863193114986 \t eval_precision: 0.8609962265797174 \t eval_recall: 0.8859024182964016\n",
      "\n",
      "[[ 635   71    6]\n",
      " [ 119 2405  266]\n",
      " [   5  130 1269]]\n"
     ]
    },
    {
     "data": {
      "text/html": [
       "\n",
       "    <div>\n",
       "      \n",
       "      <progress value='614' max='614' style='width:300px; height:20px; vertical-align: middle;'></progress>\n",
       "      [614/614 01:06]\n",
       "    </div>\n",
       "    "
      ],
      "text/plain": [
       "<IPython.core.display.HTML object>"
      ]
     },
     "metadata": {},
     "output_type": "display_data"
    },
    {
     "data": {
      "image/png": "[encoded data removed]",
      "text/plain": [
       "<Figure size 432x288 with 2 Axes>"
      ]
     },
     "metadata": {
      "needs_background": "light"
     },
     "output_type": "display_data"
    },
    {
     "name": "stderr",
     "output_type": "stream",
     "text": [
      "PyTorch: setting up devices\n",
      "The default value for the training argument `--report_to` will change in v5 (from all installed integrations to none). In v5, you will need to use `--report_to all` to get the same behavior as now. You should start updating your code and make this info disappear :-).\n",
      "***** Running Evaluation *****\n",
      "  Num examples = 4906\n",
      "  Batch size = 8\n"
     ]
    },
    {
     "name": "stdout",
     "output_type": "stream",
     "text": [
      "\n",
      "Total scores: \n",
      "eval_loss: 0.7199907302856445 \t eval_accuracy: 0.7910721565430086 \t eval_f1: 0.7932787715393146 \t eval_precision: 0.776401289247238 \t eval_recall: 0.8363980594287469\n",
      "\n",
      "[[ 639   49   24]\n",
      " [ 213 1971  606]\n",
      " [  11  122 1271]]\n"
     ]
    },
    {
     "data": {
      "text/html": [
       "\n",
       "    <div>\n",
       "      \n",
       "      <progress value='614' max='614' style='width:300px; height:20px; vertical-align: middle;'></progress>\n",
       "      [614/614 01:07]\n",
       "    </div>\n",
       "    "
      ],
      "text/plain": [
       "<IPython.core.display.HTML object>"
      ]
     },
     "metadata": {},
     "output_type": "display_data"
    },
    {
     "data": {
      "image/png": "[encoded data removed]",
      "text/plain": [
       "<Figure size 432x288 with 2 Axes>"
      ]
     },
     "metadata": {
      "needs_background": "light"
     },
     "output_type": "display_data"
    },
    {
     "name": "stderr",
     "output_type": "stream",
     "text": [
      "PyTorch: setting up devices\n",
      "The default value for the training argument `--report_to` will change in v5 (from all installed integrations to none). In v5, you will need to use `--report_to all` to get the same behavior as now. You should start updating your code and make this info disappear :-).\n",
      "***** Running Evaluation *****\n",
      "  Num examples = 4906\n",
      "  Batch size = 8\n"
     ]
    },
    {
     "name": "stdout",
     "output_type": "stream",
     "text": [
      "\n",
      "Total scores: \n",
      "eval_loss: 0.5264526605606079 \t eval_accuracy: 0.8636363636363636 \t eval_f1: 0.8541625532056817 \t eval_precision: 0.849624910189123 \t eval_recall: 0.8595320348461583\n",
      "\n",
      "[[ 627   78    7]\n",
      " [ 113 2468  209]\n",
      " [  23  239 1142]]\n"
     ]
    },
    {
     "data": {
      "text/html": [
       "\n",
       "    <div>\n",
       "      \n",
       "      <progress value='614' max='614' style='width:300px; height:20px; vertical-align: middle;'></progress>\n",
       "      [614/614 01:08]\n",
       "    </div>\n",
       "    "
      ],
      "text/plain": [
       "<IPython.core.display.HTML object>"
      ]
     },
     "metadata": {},
     "output_type": "display_data"
    },
    {
     "data": {
      "image/png": "[encoded data removed]",
      "text/plain": [
       "<Figure size 432x288 with 2 Axes>"
      ]
     },
     "metadata": {
      "needs_background": "light"
     },
     "output_type": "display_data"
    },
    {
     "name": "stdout",
     "output_type": "stream",
     "text": [
      "\n",
      "Total scores: \n",
      "eval_loss: 0.5626264214515686 \t eval_accuracy: 0.8344883815735834 \t eval_f1: 0.8294141679455292 \t eval_precision: 0.8250926385651466 \t eval_recall: 0.8355196340939967\n",
      "\n",
      "[[ 598   94   20]\n",
      " [  98 2327  365]\n",
      " [  14  221 1169]]\n"
     ]
    }
   ],
   "source": [
    "sick_nl_data = nl_sick.test_data\n",
    "sick_en_data = en_sick.test_data\n",
    "print_individual = False\n",
    "print(torch.cuda.is_available())\n",
    "\n",
    "make_predictions(eval_dataset_sick_bert, sick_en_data, model_sick_bert_en, tokenizer_bert, bert, print_individual)\n",
    "make_predictions(eval_dataset_sick_bert_nl, sick_nl_data, model_sick_bert_nl, tokenizer_bertnl, bert_nl, print_individual)\n",
    "\n",
    "make_predictions(eval_dataset_sick_roberta, sick_en_data, model_sick_roberta_en, tokenizer_roberta, roberta, print_individual)\n",
    "make_predictions(eval_dataset_sick_roberta_nl, sick_nl_data, model_sick_roberta_nl, tokenizer_robertanl, roberta_nl, print_individual)\n",
    "\n",
    "make_predictions(eval_dataset_sick_mbert, sick_en_data, model_sick_mbert_en, tokenizer_mbert, mbert, print_individual)\n",
    "make_predictions(eval_dataset_sick_mbert_nl, sick_nl_data, model_sick_mbert_nl, tokenizer_mbert, mbert, print_individual)\n",
    "\n"
   ]
  },
  {
   "cell_type": "code",
   "execution_count": 8,
   "id": "9630059e",
   "metadata": {},
   "outputs": [
    {
     "name": "stderr",
     "output_type": "stream",
     "text": [
      "PyTorch: setting up devices\n",
      "The default value for the training argument `--report_to` will change in v5 (from all installed integrations to none). In v5, you will need to use `--report_to all` to get the same behavior as now. You should start updating your code and make this info disappear :-).\n",
      "***** Running Evaluation *****\n",
      "  Num examples = 1416\n",
      "  Batch size = 8\n"
     ]
    },
    {
     "data": {
      "text/html": [
       "\n",
       "    <div>\n",
       "      \n",
       "      <progress value='177' max='177' style='width:300px; height:20px; vertical-align: middle;'></progress>\n",
       "      [177/177 00:19]\n",
       "    </div>\n",
       "    "
      ],
      "text/plain": [
       "<IPython.core.display.HTML object>"
      ]
     },
     "metadata": {},
     "output_type": "display_data"
    },
    {
     "data": {
      "image/png": "[encoded data removed]",
      "text/plain": [
       "<Figure size 432x288 with 2 Axes>"
      ]
     },
     "metadata": {
      "needs_background": "light"
     },
     "output_type": "display_data"
    },
    {
     "name": "stdout",
     "output_type": "stream",
     "text": [
      "\n",
      "Total scores: \n",
      "eval_loss: 1.767464518547058 \t eval_accuracy: 0.4117231638418079 \t eval_f1: 0.38788229521906453 \t eval_precision: 0.4678348957726816 \t eval_recall: 0.41172316384180796\n",
      "\n",
      "[[ 94 330  48]\n",
      " [ 26 333 113]\n",
      " [ 50 266 156]]\n"
     ]
    }
   ],
   "source": [
    "mednli_data = nl_mednli.test_data\n",
    "mednli_en_data = en_mednli.test_data\n",
    "\n",
    "make_predictions(eval_dataset_mednli_roberta_nl, mednli_data, model_sick_roberta_nl, tokenizer_robertanl, roberta_nl, print_individual)"
   ]
  },
  {
   "cell_type": "code",
   "execution_count": 12,
   "id": "47c33013",
   "metadata": {
    "scrolled": false
   },
   "outputs": [
    {
     "name": "stderr",
     "output_type": "stream",
     "text": [
      "PyTorch: setting up devices\n",
      "The default value for the training argument `--report_to` will change in v5 (from all installed integrations to none). In v5, you will need to use `--report_to all` to get the same behavior as now. You should start updating your code and make this info disappear :-).\n",
      "***** Running Evaluation *****\n",
      "  Num examples = 1419\n",
      "  Batch size = 8\n"
     ]
    },
    {
     "data": {
      "text/html": [
       "\n",
       "    <div>\n",
       "      \n",
       "      <progress value='178' max='178' style='width:300px; height:20px; vertical-align: middle;'></progress>\n",
       "      [178/178 00:19]\n",
       "    </div>\n",
       "    "
      ],
      "text/plain": [
       "<IPython.core.display.HTML object>"
      ]
     },
     "metadata": {},
     "output_type": "display_data"
    },
    {
     "data": {
      "image/png": "[encoded data removed]",
      "text/plain": [
       "<Figure size 432x288 with 2 Axes>"
      ]
     },
     "metadata": {
      "needs_background": "light"
     },
     "output_type": "display_data"
    },
    {
     "name": "stderr",
     "output_type": "stream",
     "text": [
      "PyTorch: setting up devices\n",
      "The default value for the training argument `--report_to` will change in v5 (from all installed integrations to none). In v5, you will need to use `--report_to all` to get the same behavior as now. You should start updating your code and make this info disappear :-).\n",
      "***** Running Evaluation *****\n",
      "  Num examples = 1416\n",
      "  Batch size = 8\n"
     ]
    },
    {
     "name": "stdout",
     "output_type": "stream",
     "text": [
      "\n",
      "Total scores: \n",
      "eval_loss: 0.6209172606468201 \t eval_accuracy: 0.7716701902748414 \t eval_f1: 0.771122211762039 \t eval_precision: 0.7721802176930382 \t eval_recall: 0.7716701902748415\n",
      "\n",
      "[[410  30  33]\n",
      " [ 39 360  74]\n",
      " [ 31 117 325]]\n"
     ]
    },
    {
     "data": {
      "text/html": [
       "\n",
       "    <div>\n",
       "      \n",
       "      <progress value='177' max='177' style='width:300px; height:20px; vertical-align: middle;'></progress>\n",
       "      [177/177 00:19]\n",
       "    </div>\n",
       "    "
      ],
      "text/plain": [
       "<IPython.core.display.HTML object>"
      ]
     },
     "metadata": {},
     "output_type": "display_data"
    },
    {
     "data": {
      "image/png": "[encoded data removed]",
      "text/plain": [
       "<Figure size 432x288 with 2 Axes>"
      ]
     },
     "metadata": {
      "needs_background": "light"
     },
     "output_type": "display_data"
    },
    {
     "name": "stderr",
     "output_type": "stream",
     "text": [
      "PyTorch: setting up devices\n",
      "The default value for the training argument `--report_to` will change in v5 (from all installed integrations to none). In v5, you will need to use `--report_to all` to get the same behavior as now. You should start updating your code and make this info disappear :-).\n",
      "***** Running Evaluation *****\n",
      "  Num examples = 1416\n",
      "  Batch size = 8\n"
     ]
    },
    {
     "name": "stdout",
     "output_type": "stream",
     "text": [
      "\n",
      "Total scores: \n",
      "eval_loss: 0.8259989619255066 \t eval_accuracy: 0.7146892655367232 \t eval_f1: 0.7141693145229988 \t eval_precision: 0.7141471333940722 \t eval_recall: 0.7146892655367232\n",
      "\n",
      "[[379  49  44]\n",
      " [ 52 325  95]\n",
      " [ 52 112 308]]\n"
     ]
    },
    {
     "data": {
      "text/html": [
       "\n",
       "    <div>\n",
       "      \n",
       "      <progress value='177' max='177' style='width:300px; height:20px; vertical-align: middle;'></progress>\n",
       "      [177/177 00:19]\n",
       "    </div>\n",
       "    "
      ],
      "text/plain": [
       "<IPython.core.display.HTML object>"
      ]
     },
     "metadata": {},
     "output_type": "display_data"
    },
    {
     "data": {
      "image/png": "[encoded data removed]",
      "text/plain": [
       "<Figure size 432x288 with 2 Axes>"
      ]
     },
     "metadata": {
      "needs_background": "light"
     },
     "output_type": "display_data"
    },
    {
     "name": "stderr",
     "output_type": "stream",
     "text": [
      "PyTorch: setting up devices\n",
      "The default value for the training argument `--report_to` will change in v5 (from all installed integrations to none). In v5, you will need to use `--report_to all` to get the same behavior as now. You should start updating your code and make this info disappear :-).\n",
      "***** Running Evaluation *****\n",
      "  Num examples = 1419\n",
      "  Batch size = 8\n"
     ]
    },
    {
     "name": "stdout",
     "output_type": "stream",
     "text": [
      "\n",
      "Total scores: \n",
      "eval_loss: 0.7261748909950256 \t eval_accuracy: 0.7429378531073446 \t eval_f1: 0.7423164997764634 \t eval_precision: 0.7419340734373238 \t eval_recall: 0.7429378531073446\n",
      "\n",
      "[[394  40  38]\n",
      " [ 43 334  95]\n",
      " [ 49  99 324]]\n"
     ]
    },
    {
     "data": {
      "text/html": [
       "\n",
       "    <div>\n",
       "      \n",
       "      <progress value='178' max='178' style='width:300px; height:20px; vertical-align: middle;'></progress>\n",
       "      [178/178 00:19]\n",
       "    </div>\n",
       "    "
      ],
      "text/plain": [
       "<IPython.core.display.HTML object>"
      ]
     },
     "metadata": {},
     "output_type": "display_data"
    },
    {
     "data": {
      "image/png": "[encoded data removed]",
      "text/plain": [
       "<Figure size 432x288 with 2 Axes>"
      ]
     },
     "metadata": {
      "needs_background": "light"
     },
     "output_type": "display_data"
    },
    {
     "name": "stderr",
     "output_type": "stream",
     "text": [
      "PyTorch: setting up devices\n",
      "The default value for the training argument `--report_to` will change in v5 (from all installed integrations to none). In v5, you will need to use `--report_to all` to get the same behavior as now. You should start updating your code and make this info disappear :-).\n",
      "***** Running Evaluation *****\n",
      "  Num examples = 1416\n",
      "  Batch size = 8\n"
     ]
    },
    {
     "name": "stdout",
     "output_type": "stream",
     "text": [
      "\n",
      "Total scores: \n",
      "eval_loss: 0.5895498991012573 \t eval_accuracy: 0.7744890768146582 \t eval_f1: 0.7733090693624233 \t eval_precision: 0.773710470779689 \t eval_recall: 0.7744890768146582\n",
      "\n",
      "[[416  22  35]\n",
      " [ 43 329 101]\n",
      " [ 39  80 354]]\n"
     ]
    },
    {
     "data": {
      "text/html": [
       "\n",
       "    <div>\n",
       "      \n",
       "      <progress value='177' max='177' style='width:300px; height:20px; vertical-align: middle;'></progress>\n",
       "      [177/177 00:19]\n",
       "    </div>\n",
       "    "
      ],
      "text/plain": [
       "<IPython.core.display.HTML object>"
      ]
     },
     "metadata": {},
     "output_type": "display_data"
    },
    {
     "data": {
      "image/png": "[encoded data removed]",
      "text/plain": [
       "<Figure size 432x288 with 2 Axes>"
      ]
     },
     "metadata": {
      "needs_background": "light"
     },
     "output_type": "display_data"
    },
    {
     "name": "stderr",
     "output_type": "stream",
     "text": [
      "PyTorch: setting up devices\n",
      "The default value for the training argument `--report_to` will change in v5 (from all installed integrations to none). In v5, you will need to use `--report_to all` to get the same behavior as now. You should start updating your code and make this info disappear :-).\n",
      "***** Running Evaluation *****\n",
      "  Num examples = 1416\n",
      "  Batch size = 8\n"
     ]
    },
    {
     "name": "stdout",
     "output_type": "stream",
     "text": [
      "\n",
      "Total scores: \n",
      "eval_loss: 0.7520893216133118 \t eval_accuracy: 0.7033898305084746 \t eval_f1: 0.7018932724064261 \t eval_precision: 0.7016245295853315 \t eval_recall: 0.7033898305084746\n",
      "\n",
      "[[378  47  47]\n",
      " [ 53 323  96]\n",
      " [ 75 102 295]]\n"
     ]
    },
    {
     "data": {
      "text/html": [
       "\n",
       "    <div>\n",
       "      \n",
       "      <progress value='177' max='177' style='width:300px; height:20px; vertical-align: middle;'></progress>\n",
       "      [177/177 00:19]\n",
       "    </div>\n",
       "    "
      ],
      "text/plain": [
       "<IPython.core.display.HTML object>"
      ]
     },
     "metadata": {},
     "output_type": "display_data"
    },
    {
     "data": {
      "image/png": "[encoded data removed]",
      "text/plain": [
       "<Figure size 432x288 with 2 Axes>"
      ]
     },
     "metadata": {
      "needs_background": "light"
     },
     "output_type": "display_data"
    },
    {
     "name": "stderr",
     "output_type": "stream",
     "text": [
      "PyTorch: setting up devices\n",
      "The default value for the training argument `--report_to` will change in v5 (from all installed integrations to none). In v5, you will need to use `--report_to all` to get the same behavior as now. You should start updating your code and make this info disappear :-).\n",
      "***** Running Evaluation *****\n",
      "  Num examples = 1419\n",
      "  Batch size = 8\n"
     ]
    },
    {
     "name": "stdout",
     "output_type": "stream",
     "text": [
      "\n",
      "Total scores: \n",
      "eval_loss: 0.7035207152366638 \t eval_accuracy: 0.7252824858757062 \t eval_f1: 0.7260217546543205 \t eval_precision: 0.7288952362396618 \t eval_recall: 0.7252824858757062\n",
      "\n",
      "[[371  55  46]\n",
      " [ 40 346  86]\n",
      " [ 38 124 310]]\n"
     ]
    },
    {
     "data": {
      "text/html": [
       "\n",
       "    <div>\n",
       "      \n",
       "      <progress value='178' max='178' style='width:300px; height:20px; vertical-align: middle;'></progress>\n",
       "      [178/178 00:19]\n",
       "    </div>\n",
       "    "
      ],
      "text/plain": [
       "<IPython.core.display.HTML object>"
      ]
     },
     "metadata": {},
     "output_type": "display_data"
    },
    {
     "data": {
      "image/png": "[encoded data removed]",
      "text/plain": [
       "<Figure size 432x288 with 2 Axes>"
      ]
     },
     "metadata": {
      "needs_background": "light"
     },
     "output_type": "display_data"
    },
    {
     "name": "stderr",
     "output_type": "stream",
     "text": [
      "PyTorch: setting up devices\n",
      "The default value for the training argument `--report_to` will change in v5 (from all installed integrations to none). In v5, you will need to use `--report_to all` to get the same behavior as now. You should start updating your code and make this info disappear :-).\n",
      "***** Running Evaluation *****\n",
      "  Num examples = 1416\n",
      "  Batch size = 8\n"
     ]
    },
    {
     "name": "stdout",
     "output_type": "stream",
     "text": [
      "\n",
      "Total scores: \n",
      "eval_loss: 0.685218334197998 \t eval_accuracy: 0.7582804792107117 \t eval_f1: 0.7578729063817317 \t eval_precision: 0.7576787357968978 \t eval_recall: 0.7582804792107117\n",
      "\n",
      "[[388  36  49]\n",
      " [ 37 358  78]\n",
      " [ 56  87 330]]\n"
     ]
    },
    {
     "data": {
      "text/html": [
       "\n",
       "    <div>\n",
       "      \n",
       "      <progress value='177' max='177' style='width:300px; height:20px; vertical-align: middle;'></progress>\n",
       "      [177/177 00:19]\n",
       "    </div>\n",
       "    "
      ],
      "text/plain": [
       "<IPython.core.display.HTML object>"
      ]
     },
     "metadata": {},
     "output_type": "display_data"
    },
    {
     "data": {
      "image/png": "[encoded data removed]",
      "text/plain": [
       "<Figure size 432x288 with 2 Axes>"
      ]
     },
     "metadata": {
      "needs_background": "light"
     },
     "output_type": "display_data"
    },
    {
     "name": "stderr",
     "output_type": "stream",
     "text": [
      "PyTorch: setting up devices\n",
      "The default value for the training argument `--report_to` will change in v5 (from all installed integrations to none). In v5, you will need to use `--report_to all` to get the same behavior as now. You should start updating your code and make this info disappear :-).\n",
      "***** Running Evaluation *****\n",
      "  Num examples = 1416\n",
      "  Batch size = 8\n"
     ]
    },
    {
     "name": "stdout",
     "output_type": "stream",
     "text": [
      "\n",
      "Total scores: \n",
      "eval_loss: 0.7256693243980408 \t eval_accuracy: 0.7182203389830508 \t eval_f1: 0.7149516990136152 \t eval_precision: 0.7165315147466974 \t eval_recall: 0.7182203389830509\n",
      "\n",
      "[[396  37  39]\n",
      " [ 51 342  79]\n",
      " [ 74 119 279]]\n"
     ]
    },
    {
     "data": {
      "text/html": [
       "\n",
       "    <div>\n",
       "      \n",
       "      <progress value='177' max='177' style='width:300px; height:20px; vertical-align: middle;'></progress>\n",
       "      [177/177 00:19]\n",
       "    </div>\n",
       "    "
      ],
      "text/plain": [
       "<IPython.core.display.HTML object>"
      ]
     },
     "metadata": {},
     "output_type": "display_data"
    },
    {
     "data": {
      "image/png": "[encoded data removed]",
      "text/plain": [
       "<Figure size 432x288 with 2 Axes>"
      ]
     },
     "metadata": {
      "needs_background": "light"
     },
     "output_type": "display_data"
    },
    {
     "name": "stdout",
     "output_type": "stream",
     "text": [
      "\n",
      "Total scores: \n",
      "eval_loss: 0.6980198621749878 \t eval_accuracy: 0.7288135593220338 \t eval_f1: 0.7246820196767016 \t eval_precision: 0.7311112112929233 \t eval_recall: 0.7288135593220341\n",
      "\n",
      "[[393  42  37]\n",
      " [ 51 367  54]\n",
      " [ 78 122 272]]\n"
     ]
    }
   ],
   "source": [
    "mednli_data = nl_mednli.test_data\n",
    "mednli_en_data = en_mednli.test_data\n",
    "print_individual = False\n",
    "\n",
    "make_predictions(eval_dataset_mednli_bert, mednli_en_data, model_mednli_bert_en, tokenizer_bert, bert, print_individual)\n",
    "make_predictions(eval_dataset_mednli_bert_nl, mednli_data, model_mednli_bert_nl_go, tokenizer_bertnl, bert_nl, print_individual)\n",
    "make_predictions(eval_dataset_mednli_bert_nl, mednli_data, model_mednli_bert_nl_dl, tokenizer_bertnl, bert_nl, print_individual)\n",
    "\n",
    "make_predictions(eval_dataset_mednli_roberta, mednli_en_data, model_mednli_roberta_en, tokenizer_roberta, roberta, print_individual)\n",
    "make_predictions(eval_dataset_mednli_roberta_nl, mednli_data, model_mednli_roberta_nl_go, tokenizer_robertanl, roberta_nl, print_individual)\n",
    "make_predictions(eval_dataset_mednli_roberta_nl, mednli_data, model_mednli_roberta_nl_dl, tokenizer_robertanl, roberta_nl, print_individual)\n",
    "\n",
    "make_predictions(eval_dataset_mednli_mbert, mednli_en_data, model_mednli_mbert_en, tokenizer_mbert, mbert, print_individual)\n",
    "make_predictions(eval_dataset_mednli_mbert_nl, mednli_data, model_mednli_mbert_nl_go, tokenizer_mbert, mbert, print_individual)\n",
    "make_predictions(eval_dataset_mednli_mbert_nl, mednli_data, model_mednli_mbert_nl_dl, tokenizer_mbert, mbert, print_individual)\n"
   ]
  },
  {
   "cell_type": "code",
   "execution_count": 16,
   "id": "aaa72a29",
   "metadata": {},
   "outputs": [
    {
     "name": "stderr",
     "output_type": "stream",
     "text": [
      "PyTorch: setting up devices\n",
      "The default value for the training argument `--report_to` will change in v5 (from all installed integrations to none). In v5, you will need to use `--report_to all` to get the same behavior as now. You should start updating your code and make this info disappear :-).\n",
      "***** Running Evaluation *****\n",
      "  Num examples = 4906\n",
      "  Batch size = 8\n"
     ]
    },
    {
     "data": {
      "text/html": [
       "\n",
       "    <div>\n",
       "      \n",
       "      <progress value='614' max='614' style='width:300px; height:20px; vertical-align: middle;'></progress>\n",
       "      [614/614 23:37]\n",
       "    </div>\n",
       "    "
      ],
      "text/plain": [
       "<IPython.core.display.HTML object>"
      ]
     },
     "metadata": {},
     "output_type": "display_data"
    },
    {
     "data": {
      "image/png": "[encoded data removed]",
      "text/plain": [
       "<Figure size 432x288 with 2 Axes>"
      ]
     },
     "metadata": {
      "needs_background": "light"
     },
     "output_type": "display_data"
    },
    {
     "name": "stdout",
     "output_type": "stream",
     "text": [
      "\n",
      "Total scores: \n",
      "eval_loss: 1.5468498468399048 \t eval_accuracy: 0.40705258866693844 \t eval_f1: 0.40644939519784123 \t eval_precision: 0.6098617185320635 \t eval_recall: 0.5806701421265877\n",
      "\n",
      "[[ 519    2  191]\n",
      " [ 412  112 2266]\n",
      " [  32    6 1366]]\n",
      "\n",
      "Individual predictions: \n",
      "\n",
      "Neutral Entailment Er is geen jongen die buiten speelt en er is geen man die lacht Een groepje kinderen speelt in een tuin en een oude man staat op de achtergrond [0.13898833096027374, 0.10195180773735046, 0.7590598464012146]\n"
     ]
    },
    {
     "ename": "TypeError",
     "evalue": "list indices must be integers or slices, not str",
     "output_type": "error",
     "traceback": [
      "\u001b[1;31m---------------------------------------------------------------------------\u001b[0m",
      "\u001b[1;31mTypeError\u001b[0m                                 Traceback (most recent call last)",
      "Input \u001b[1;32mIn [16]\u001b[0m, in \u001b[0;36m<cell line: 4>\u001b[1;34m()\u001b[0m\n\u001b[0;32m      1\u001b[0m sick_nl_data \u001b[38;5;241m=\u001b[39m nl_sick\u001b[38;5;241m.\u001b[39mtest_data\n\u001b[0;32m      2\u001b[0m sick_en_data \u001b[38;5;241m=\u001b[39m en_sick\u001b[38;5;241m.\u001b[39mtest_data\n\u001b[1;32m----> 4\u001b[0m \u001b[43mmake_predictions\u001b[49m\u001b[43m(\u001b[49m\u001b[43meval_dataset_sick_roberta_nl\u001b[49m\u001b[43m,\u001b[49m\u001b[43m \u001b[49m\u001b[43msick_nl_data\u001b[49m\u001b[43m,\u001b[49m\u001b[43m \u001b[49m\u001b[43mmodel_mednli_roberta_nl_go\u001b[49m\u001b[43m,\u001b[49m\u001b[43m \u001b[49m\u001b[43mtokenizer_robertanl\u001b[49m\u001b[43m,\u001b[49m\u001b[43m \u001b[49m\u001b[43mroberta_nl\u001b[49m\u001b[43m,\u001b[49m\u001b[43m \u001b[49m\u001b[38;5;28;43;01mTrue\u001b[39;49;00m\u001b[43m)\u001b[49m\n",
      "Input \u001b[1;32mIn [15]\u001b[0m, in \u001b[0;36mmake_predictions\u001b[1;34m(bert_data, sentences, model, tokenizer, name, print_individual)\u001b[0m\n\u001b[0;32m     25\u001b[0m \u001b[38;5;28;01mfor\u001b[39;00m (i, (ground_truth, prediction, premise, hypothesis, probabilities)) \u001b[38;5;129;01min\u001b[39;00m \u001b[38;5;28menumerate\u001b[39m(results):\n\u001b[0;32m     26\u001b[0m     \u001b[38;5;28mprint\u001b[39m(ground_truth, prediction, premise, hypothesis, probabilities)\n\u001b[1;32m---> 27\u001b[0m     \u001b[38;5;28mprint\u001b[39m(\u001b[38;5;124mf\u001b[39m\u001b[38;5;124m\"\u001b[39m\u001b[38;5;124mPremise: \u001b[39m\u001b[38;5;132;01m{\u001b[39;00mpremise\u001b[38;5;132;01m}\u001b[39;00m\u001b[38;5;124m \u001b[39m\u001b[38;5;130;01m\\n\u001b[39;00m\u001b[38;5;124mHypothesis: \u001b[39m\u001b[38;5;132;01m{\u001b[39;00mhypothesis\u001b[38;5;132;01m}\u001b[39;00m\u001b[38;5;130;01m\\n\u001b[39;00m\u001b[38;5;124mPrediction: \u001b[39m\u001b[38;5;132;01m{\u001b[39;00mlabels[prediction]\u001b[38;5;132;01m}\u001b[39;00m\u001b[38;5;130;01m\\n\u001b[39;00m\u001b[38;5;124mGround truth: \u001b[39m\u001b[38;5;132;01m{\u001b[39;00mlabels[ground_truth]\u001b[38;5;132;01m}\u001b[39;00m\u001b[38;5;130;01m\\n\u001b[39;00m\u001b[38;5;124mProbabilities: Contradiction: \u001b[39m\u001b[38;5;132;01m{\u001b[39;00mprobabilities[\u001b[38;5;241m0\u001b[39m]\u001b[38;5;132;01m}\u001b[39;00m\u001b[38;5;130;01m\\t\u001b[39;00m\u001b[38;5;124mNeutral: \u001b[39m\u001b[38;5;132;01m{\u001b[39;00mprobabilities[\u001b[38;5;241m1\u001b[39m]\u001b[38;5;132;01m}\u001b[39;00m\u001b[38;5;130;01m\\t\u001b[39;00m\u001b[38;5;124mEntailment: \u001b[39m\u001b[38;5;132;01m{\u001b[39;00mprobabilities[\u001b[38;5;241m2\u001b[39m]\u001b[38;5;132;01m}\u001b[39;00m\u001b[38;5;130;01m\\n\u001b[39;00m\u001b[38;5;130;01m\\n\u001b[39;00m\u001b[38;5;124m\"\u001b[39m)\n",
      "\u001b[1;31mTypeError\u001b[0m: list indices must be integers or slices, not str"
     ]
    }
   ],
   "source": [
    "sick_nl_data = nl_sick.test_data\n",
    "sick_en_data = en_sick.test_data\n",
    "\n",
    "make_predictions(eval_dataset_sick_roberta_nl, sick_nl_data, model_mednli_roberta_nl_go, tokenizer_robertanl, roberta_nl, True)"
   ]
  },
  {
   "cell_type": "markdown",
   "id": "2dcc3bb3",
   "metadata": {},
   "source": [
    "### Small dataset to test on SOPs and Richtlijnen sentence pairs"
   ]
  },
  {
   "cell_type": "code",
   "execution_count": 7,
   "id": "f9ae2738",
   "metadata": {},
   "outputs": [],
   "source": [
    "sop_richtlijn_dataset = [(\"Verpleeg een MRSA-positieve patiënt in strikte isolatie\", \"De patiënt gaat in strikte isolatie, wordt volledig gescreend op MRSA en op de kamerdeur komt een rode isolatiekaart te hangen\", \"ENTAILMENT\", 0),\n",
    "                        (\"Voor linnengoed hoeven geen bijzondere maatregelen te worden genomen\", \"Was en linnengoed afvoeren op de gebruikelijke manier\", \"ENTAILMENT\", 0),\n",
    "                        (\"Voor het betreden van de kamer worden handschoenen aangedaan, beschermende kleding met lange mouwen aangedaan en voor het betreden van de kamer wordt een mondneusmasker voorgedaan\", \"Draag pbm: isolatiejas, handschoenen, muts, ffp2 mondneusmasker, eventueel een veiligheidsbril\", \"ENTAILMENT\", 0),\n",
    "                        (\"De ontvangende afdeling neemt dezelfde maatregelen als hier beschreven\", \"De ontvangende afdeling neemt dezelfde maatregelen als de afdeling waar de patiënt vandaan komt (m.u.v. MRSA naar polikliniek/functie-/onderzoeksafdeling, zie contact isolatie)\", \"ENTAILMENT\", 0),\n",
    "                        (\"Verpleeg een MRSA-positieve patiënt in strikte isolatie\", \"De MRSA patiënt hoeft niet in isolatie\", \"CONTRADICTION\", 0)]\n",
    "\n",
    "eval_dataset_roberta = BERT_DATASET(sop_richtlijn_dataset, tokenizer_robertanl)\n",
    "eval_dataset_mbert = BERT_DATASET(sop_richtlijn_dataset, tokenizer_mbert)\n",
    "eval_dataset_bertnl = BERT_DATASET(sop_richtlijn_dataset, tokenizer_bertnl)\n",
    "print_individual = True"
   ]
  },
  {
   "cell_type": "code",
   "execution_count": 10,
   "id": "0570d695",
   "metadata": {},
   "outputs": [
    {
     "name": "stderr",
     "output_type": "stream",
     "text": [
      "loading file https://huggingface.co/pdelobelle/robbert-v2-dutch-base/resolve/main/vocab.json from cache at C:\\Users\\lukev/.cache\\huggingface\\transformers\\e338cb20bd645675d888a6469d1b7bfe472e69a5c93052006528c9ae4f856e44.43004df1e5c2251acdd15f077a74063dea7f0082e895ca8978bc6876d97c918b\n",
      "loading file https://huggingface.co/pdelobelle/robbert-v2-dutch-base/resolve/main/merges.txt from cache at C:\\Users\\lukev/.cache\\huggingface\\transformers\\0cc0d13f8f47c5f67868f6ea3638b66b788e833af7323164ba7d3e1c92f49f42.15e46d82fe3fef52038bdadabeb8cca392378e0966fa780352e52eaa8301f2ba\n",
      "loading file https://huggingface.co/pdelobelle/robbert-v2-dutch-base/resolve/main/added_tokens.json from cache at None\n",
      "loading file https://huggingface.co/pdelobelle/robbert-v2-dutch-base/resolve/main/special_tokens_map.json from cache at C:\\Users\\lukev/.cache\\huggingface\\transformers\\fc901152bccc6123aa5ca59de0c36b6e68e0796b4d7875a0e4e9744aab712cd2.a11ebb04664c067c8fe5ef8f8068b0f721263414a26058692f7b2e4ba2a1b342\n",
      "loading file https://huggingface.co/pdelobelle/robbert-v2-dutch-base/resolve/main/tokenizer_config.json from cache at C:\\Users\\lukev/.cache\\huggingface\\transformers\\0e574c682eea0c331bacb169b024661d2c630bcc95fb929dffaecbc6e3d5e83e.b25ac1f3bc538e061573df45561f46b234ba553cd567a9a487bf0c20e09447b5\n",
      "loading configuration file https://huggingface.co/pdelobelle/robbert-v2-dutch-base/resolve/main/config.json from cache at C:\\Users\\lukev/.cache\\huggingface\\transformers\\4dc1751f7036aa151e84b548c6c2a90c679132d8e7b35c81a217140ca5409f6a.45b4090752cbcdfa3b06574023ad242f1b2c25a31c6390b81325b2f43ee506ca\n",
      "Model config RobertaConfig {\n",
      "  \"_name_or_path\": \"pdelobelle/robbert-v2-dutch-base\",\n",
      "  \"architectures\": [\n",
      "    \"RobertaForMaskedLM\"\n",
      "  ],\n",
      "  \"attention_probs_dropout_prob\": 0.1,\n",
      "  \"bos_token_id\": 0,\n",
      "  \"classifier_dropout\": null,\n",
      "  \"eos_token_id\": 2,\n",
      "  \"gradient_checkpointing\": false,\n",
      "  \"hidden_act\": \"gelu\",\n",
      "  \"hidden_dropout_prob\": 0.1,\n",
      "  \"hidden_size\": 768,\n",
      "  \"initializer_range\": 0.02,\n",
      "  \"intermediate_size\": 3072,\n",
      "  \"layer_norm_eps\": 1e-05,\n",
      "  \"max_position_embeddings\": 514,\n",
      "  \"model_type\": \"roberta\",\n",
      "  \"num_attention_heads\": 12,\n",
      "  \"num_hidden_layers\": 12,\n",
      "  \"output_past\": true,\n",
      "  \"pad_token_id\": 1,\n",
      "  \"position_embedding_type\": \"absolute\",\n",
      "  \"transformers_version\": \"4.20.1\",\n",
      "  \"type_vocab_size\": 1,\n",
      "  \"use_cache\": true,\n",
      "  \"vocab_size\": 40000\n",
      "}\n",
      "\n",
      "PyTorch: setting up devices\n",
      "The default value for the training argument `--report_to` will change in v5 (from all installed integrations to none). In v5, you will need to use `--report_to all` to get the same behavior as now. You should start updating your code and make this info disappear :-).\n",
      "***** Running Prediction *****\n",
      "  Num examples = 5\n",
      "  Batch size = 8\n"
     ]
    },
    {
     "data": {
      "text/html": [
       "\n",
       "    <div>\n",
       "      \n",
       "      <progress value='1' max='1' style='width:300px; height:20px; vertical-align: middle;'></progress>\n",
       "      [1/1 : < :]\n",
       "    </div>\n",
       "    "
      ],
      "text/plain": [
       "<IPython.core.display.HTML object>"
      ]
     },
     "metadata": {},
     "output_type": "display_data"
    },
    {
     "name": "stdout",
     "output_type": "stream",
     "text": [
      "PredictionOutput(predictions=array([[-0.8052241 , -1.0198773 ,  1.772705  ],\n",
      "       [ 1.2582885 , -0.5927331 , -0.4579755 ],\n",
      "       [-0.6631475 , -1.1157337 ,  1.3509773 ],\n",
      "       [ 0.32338685, -1.965223  ,  1.5808353 ],\n",
      "       [ 2.3239458 , -1.247131  , -0.6625853 ]], dtype=float32), label_ids=array([2, 2, 2, 2, 0], dtype=int64), metrics={'test_loss': 0.5361410975456238, 'test_accuracy': 0.8, 'test_f1': 0.7619047619047619, 'test_precision': 0.75, 'test_recall': 0.875, 'test_trues': [2, 2, 2, 2, 0], 'test_predictions': [2, 0, 2, 2, 0], 'test_probabilities': [[0.06677056849002838, 0.053871918469667435, 0.8793575167655945], [0.7480477094650269, 0.11750081181526184, 0.13445140421390533], [0.10952727496623993, 0.06965728849172592, 0.8208155035972595], [0.21655121445655823, 0.021959878504276276, 0.7614888548851013], [0.9271385073661804, 0.026076283305883408, 0.04678542912006378]], 'test_runtime': 4.0773, 'test_samples_per_second': 1.226, 'test_steps_per_second': 0.245})\n"
     ]
    }
   ],
   "source": [
    "#NLI\n",
    "model_mednli_roberta_nl_dl = torch.load(\"sick_nl/model_data/models/model_MEDNLI_NL_dl_robbert-v2-dutch-base.pt\")\n",
    "model_mednli_roberta_nl_dl.eval()\n",
    "#------------------------------------#\n",
    "\n",
    "#Load dataset\n",
    "nl_mednli = load_mednli_nl_dl()\n",
    "eval_dataset_roberta = BERT_DATASET(sop_richtlijn_dataset, tokenizer_robertanl)\n",
    "tokenizer_robertanl = RobertaTokenizer.from_pretrained(roberta_nl)\n",
    "tuner = BERTFineTuner(roberta_nl, tokenizer_robertanl, model_mednli_roberta_nl_dl, [], [],\"\", True)\n",
    "results = tuner.predict(eval_dataset_roberta)\n",
    "print(results)"
   ]
  },
  {
   "cell_type": "code",
   "execution_count": 12,
   "id": "a2bac200",
   "metadata": {
    "scrolled": false
   },
   "outputs": [
    {
     "name": "stderr",
     "output_type": "stream",
     "text": [
      "PyTorch: setting up devices\n",
      "The default value for the training argument `--report_to` will change in v5 (from all installed integrations to none). In v5, you will need to use `--report_to all` to get the same behavior as now. You should start updating your code and make this info disappear :-).\n",
      "***** Running Evaluation *****\n",
      "  Num examples = 5\n",
      "  Batch size = 8\n"
     ]
    },
    {
     "data": {
      "text/html": [
       "\n",
       "    <div>\n",
       "      \n",
       "      <progress value='1' max='1' style='width:300px; height:20px; vertical-align: middle;'></progress>\n",
       "      [1/1 : < :]\n",
       "    </div>\n",
       "    "
      ],
      "text/plain": [
       "<IPython.core.display.HTML object>"
      ]
     },
     "metadata": {},
     "output_type": "display_data"
    },
    {
     "name": "stderr",
     "output_type": "stream",
     "text": [
      "C:\\Users\\lukev\\anaconda3\\envs\\both\\lib\\site-packages\\sklearn\\metrics\\_classification.py:1308: UndefinedMetricWarning: Recall and F-score are ill-defined and being set to 0.0 in labels with no true samples. Use `zero_division` parameter to control this behavior.\n",
      "  _warn_prf(average, modifier, msg_start, len(result))\n",
      "PyTorch: setting up devices\n",
      "The default value for the training argument `--report_to` will change in v5 (from all installed integrations to none). In v5, you will need to use `--report_to all` to get the same behavior as now. You should start updating your code and make this info disappear :-).\n",
      "***** Running Evaluation *****\n",
      "  Num examples = 5\n",
      "  Batch size = 8\n"
     ]
    },
    {
     "name": "stdout",
     "output_type": "stream",
     "text": [
      "\n",
      "Total scores: \n",
      "eval_loss: 1.7169790267944336 \t eval_accuracy: 0.6 \t eval_f1: 0.5555555555555555 \t eval_precision: 0.6666666666666666 \t eval_recall: 0.5\n",
      "\n",
      "[[1 0 0]\n",
      " [0 0 0]\n",
      " [0 2 2]]\n",
      "\n",
      "Individual predictions: \n",
      "\n",
      "Premise: Verpleeg een MRSA-positieve patiënt in strikte isolatie \n",
      "Hypothesis: De patiënt gaat in strikte isolatie, wordt volledig gescreend op MRSA en op de kamerdeur komt een rode isolatiekaart te hangen\n",
      "Prediction: Entailment\n",
      "Ground truth: Entailment\n",
      "Probabilities: Contradiction: 0.051357023417949677\tNeutral: 0.4133988618850708\tEntailment: 0.5352442264556885\n",
      "\n",
      "\n",
      "Premise: Voor linnengoed hoeven geen bijzondere maatregelen te worden genomen \n",
      "Hypothesis: Was en linnengoed afvoeren op de gebruikelijke manier\n",
      "Prediction: Neutral\n",
      "Ground truth: Entailment\n",
      "Probabilities: Contradiction: 0.1302768439054489\tNeutral: 0.8572274446487427\tEntailment: 0.012495875358581543\n",
      "\n",
      "\n",
      "Premise: Voor het betreden van de kamer worden handschoenen aangedaan, beschermende kleding met lange mouwen aangedaan en voor het betreden van de kamer wordt een mondneusmasker voorgedaan \n",
      "Hypothesis: Draag pbm: isolatiejas, handschoenen, muts, ffp2 mondneusmasker, eventueel een veiligheidsbril\n",
      "Prediction: Neutral\n",
      "Ground truth: Entailment\n",
      "Probabilities: Contradiction: 0.0015218672342598438\tNeutral: 0.9698465466499329\tEntailment: 0.028631610795855522\n",
      "\n",
      "\n",
      "Premise: De ontvangende afdeling neemt dezelfde maatregelen als hier beschreven \n",
      "Hypothesis: De ontvangende afdeling neemt dezelfde maatregelen als de afdeling waar de patiënt vandaan komt (m.u.v. MRSA naar polikliniek/functie-/onderzoeksafdeling, zie contact isolatie)\n",
      "Prediction: Entailment\n",
      "Ground truth: Entailment\n",
      "Probabilities: Contradiction: 0.00865897536277771\tNeutral: 0.009502241387963295\tEntailment: 0.9818387627601624\n",
      "\n",
      "\n",
      "Premise: Verpleeg een MRSA-positieve patiënt in strikte isolatie \n",
      "Hypothesis: De MRSA patiënt hoeft niet in isolatie\n",
      "Prediction: Contradiction\n",
      "Ground truth: Contradiction\n",
      "Probabilities: Contradiction: 0.9940833449363708\tNeutral: 0.0044454000890254974\tEntailment: 0.0014710061950609088\n",
      "\n",
      "\n"
     ]
    },
    {
     "data": {
      "text/html": [
       "\n",
       "    <div>\n",
       "      \n",
       "      <progress value='1' max='1' style='width:300px; height:20px; vertical-align: middle;'></progress>\n",
       "      [1/1 : < :]\n",
       "    </div>\n",
       "    "
      ],
      "text/plain": [
       "<IPython.core.display.HTML object>"
      ]
     },
     "metadata": {},
     "output_type": "display_data"
    },
    {
     "name": "stderr",
     "output_type": "stream",
     "text": [
      "C:\\Users\\lukev\\anaconda3\\envs\\both\\lib\\site-packages\\sklearn\\metrics\\_classification.py:1308: UndefinedMetricWarning: Recall and F-score are ill-defined and being set to 0.0 in labels with no true samples. Use `zero_division` parameter to control this behavior.\n",
      "  _warn_prf(average, modifier, msg_start, len(result))\n",
      "PyTorch: setting up devices\n",
      "The default value for the training argument `--report_to` will change in v5 (from all installed integrations to none). In v5, you will need to use `--report_to all` to get the same behavior as now. You should start updating your code and make this info disappear :-).\n",
      "***** Running Evaluation *****\n",
      "  Num examples = 5\n",
      "  Batch size = 8\n"
     ]
    },
    {
     "name": "stdout",
     "output_type": "stream",
     "text": [
      "\n",
      "Total scores: \n",
      "eval_loss: 1.9186599254608154 \t eval_accuracy: 0.4 \t eval_f1: 0.35555555555555557 \t eval_precision: 0.5 \t eval_recall: 0.4166666666666667\n",
      "\n",
      "[[1 0 0]\n",
      " [0 0 0]\n",
      " [1 2 1]]\n",
      "\n",
      "Individual predictions: \n",
      "\n",
      "Premise: Verpleeg een MRSA-positieve patiënt in strikte isolatie \n",
      "Hypothesis: De patiënt gaat in strikte isolatie, wordt volledig gescreend op MRSA en op de kamerdeur komt een rode isolatiekaart te hangen\n",
      "Prediction: Neutral\n",
      "Ground truth: Entailment\n",
      "Probabilities: Contradiction: 0.0012593360152095556\tNeutral: 0.9469106197357178\tEntailment: 0.051830220967531204\n",
      "\n",
      "\n",
      "Premise: Voor linnengoed hoeven geen bijzondere maatregelen te worden genomen \n",
      "Hypothesis: Was en linnengoed afvoeren op de gebruikelijke manier\n",
      "Prediction: Contradiction\n",
      "Ground truth: Entailment\n",
      "Probabilities: Contradiction: 0.5152338147163391\tNeutral: 0.4771210849285126\tEntailment: 0.007645039819180965\n",
      "\n",
      "\n",
      "Premise: Voor het betreden van de kamer worden handschoenen aangedaan, beschermende kleding met lange mouwen aangedaan en voor het betreden van de kamer wordt een mondneusmasker voorgedaan \n",
      "Hypothesis: Draag pbm: isolatiejas, handschoenen, muts, ffp2 mondneusmasker, eventueel een veiligheidsbril\n",
      "Prediction: Neutral\n",
      "Ground truth: Entailment\n",
      "Probabilities: Contradiction: 0.0024061715230345726\tNeutral: 0.8082505464553833\tEntailment: 0.1893434226512909\n",
      "\n",
      "\n",
      "Premise: De ontvangende afdeling neemt dezelfde maatregelen als hier beschreven \n",
      "Hypothesis: De ontvangende afdeling neemt dezelfde maatregelen als de afdeling waar de patiënt vandaan komt (m.u.v. MRSA naar polikliniek/functie-/onderzoeksafdeling, zie contact isolatie)\n",
      "Prediction: Entailment\n",
      "Ground truth: Entailment\n",
      "Probabilities: Contradiction: 0.0412621907889843\tNeutral: 0.04594250023365021\tEntailment: 0.9127951860427856\n",
      "\n",
      "\n",
      "Premise: Verpleeg een MRSA-positieve patiënt in strikte isolatie \n",
      "Hypothesis: De MRSA patiënt hoeft niet in isolatie\n",
      "Prediction: Contradiction\n",
      "Ground truth: Contradiction\n",
      "Probabilities: Contradiction: 0.9956259727478027\tNeutral: 0.00368220591917634\tEntailment: 0.0006916208076290786\n",
      "\n",
      "\n"
     ]
    },
    {
     "data": {
      "text/html": [
       "\n",
       "    <div>\n",
       "      \n",
       "      <progress value='1' max='1' style='width:300px; height:20px; vertical-align: middle;'></progress>\n",
       "      [1/1 : < :]\n",
       "    </div>\n",
       "    "
      ],
      "text/plain": [
       "<IPython.core.display.HTML object>"
      ]
     },
     "metadata": {},
     "output_type": "display_data"
    },
    {
     "name": "stdout",
     "output_type": "stream",
     "text": [
      "\n",
      "Total scores: \n",
      "eval_loss: 1.9550294876098633 \t eval_accuracy: 0.6 \t eval_f1: 0.5555555555555555 \t eval_precision: 0.6666666666666666 \t eval_recall: 0.5\n",
      "\n",
      "[[1 0 0]\n",
      " [0 0 0]\n",
      " [0 2 2]]\n",
      "\n",
      "Individual predictions: \n",
      "\n",
      "Premise: Verpleeg een MRSA-positieve patiënt in strikte isolatie \n",
      "Hypothesis: De patiënt gaat in strikte isolatie, wordt volledig gescreend op MRSA en op de kamerdeur komt een rode isolatiekaart te hangen\n",
      "Prediction: Neutral\n",
      "Ground truth: Entailment\n",
      "Probabilities: Contradiction: 0.006195418071001768\tNeutral: 0.9737169146537781\tEntailment: 0.020087651908397675\n",
      "\n",
      "\n",
      "Premise: Voor linnengoed hoeven geen bijzondere maatregelen te worden genomen \n",
      "Hypothesis: Was en linnengoed afvoeren op de gebruikelijke manier\n",
      "Prediction: Neutral\n",
      "Ground truth: Entailment\n",
      "Probabilities: Contradiction: 0.44164133071899414\tNeutral: 0.5540837645530701\tEntailment: 0.004274901933968067\n",
      "\n",
      "\n",
      "Premise: Voor het betreden van de kamer worden handschoenen aangedaan, beschermende kleding met lange mouwen aangedaan en voor het betreden van de kamer wordt een mondneusmasker voorgedaan \n",
      "Hypothesis: Draag pbm: isolatiejas, handschoenen, muts, ffp2 mondneusmasker, eventueel een veiligheidsbril\n",
      "Prediction: Entailment\n",
      "Ground truth: Entailment\n",
      "Probabilities: Contradiction: 0.01336092222481966\tNeutral: 0.15479779243469238\tEntailment: 0.831841230392456\n",
      "\n",
      "\n",
      "Premise: De ontvangende afdeling neemt dezelfde maatregelen als hier beschreven \n",
      "Hypothesis: De ontvangende afdeling neemt dezelfde maatregelen als de afdeling waar de patiënt vandaan komt (m.u.v. MRSA naar polikliniek/functie-/onderzoeksafdeling, zie contact isolatie)\n",
      "Prediction: Entailment\n",
      "Ground truth: Entailment\n",
      "Probabilities: Contradiction: 0.020892564207315445\tNeutral: 0.02707883156836033\tEntailment: 0.9520285129547119\n",
      "\n",
      "\n",
      "Premise: Verpleeg een MRSA-positieve patiënt in strikte isolatie \n",
      "Hypothesis: De MRSA patiënt hoeft niet in isolatie\n",
      "Prediction: Contradiction\n",
      "Ground truth: Contradiction\n",
      "Probabilities: Contradiction: 0.8359138369560242\tNeutral: 0.16125933825969696\tEntailment: 0.0028266962617635727\n",
      "\n",
      "\n"
     ]
    },
    {
     "name": "stderr",
     "output_type": "stream",
     "text": [
      "C:\\Users\\lukev\\anaconda3\\envs\\both\\lib\\site-packages\\sklearn\\metrics\\_classification.py:1308: UndefinedMetricWarning: Recall and F-score are ill-defined and being set to 0.0 in labels with no true samples. Use `zero_division` parameter to control this behavior.\n",
      "  _warn_prf(average, modifier, msg_start, len(result))\n"
     ]
    }
   ],
   "source": [
    "make_predictions(eval_dataset_bertnl, sop_richtlijn_dataset, model_sick_bert_nl, tokenizer_bertnl, bert_nl, print_individual)\n",
    "make_predictions(eval_dataset_mbert, sop_richtlijn_dataset, model_sick_mbert_nl, tokenizer_mbert, mbert, print_individual)\n",
    "make_predictions(eval_dataset_roberta, sop_richtlijn_dataset, model_sick_roberta_nl, tokenizer_robertanl, roberta_nl, print_individual)"
   ]
  },
  {
   "cell_type": "code",
   "execution_count": 10,
   "id": "7a7e40c9",
   "metadata": {
    "scrolled": false
   },
   "outputs": [
    {
     "name": "stderr",
     "output_type": "stream",
     "text": [
      "PyTorch: setting up devices\n",
      "The default value for the training argument `--report_to` will change in v5 (from all installed integrations to none). In v5, you will need to use `--report_to all` to get the same behavior as now. You should start updating your code and make this info disappear :-).\n",
      "***** Running Evaluation *****\n",
      "  Num examples = 5\n",
      "  Batch size = 8\n"
     ]
    },
    {
     "data": {
      "text/html": [
       "\n",
       "    <div>\n",
       "      \n",
       "      <progress value='1' max='1' style='width:300px; height:20px; vertical-align: middle;'></progress>\n",
       "      [1/1 : < :]\n",
       "    </div>\n",
       "    "
      ],
      "text/plain": [
       "<IPython.core.display.HTML object>"
      ]
     },
     "metadata": {},
     "output_type": "display_data"
    },
    {
     "name": "stdout",
     "output_type": "stream",
     "text": [
      "\n",
      "Total scores: \n",
      "eval_loss: 0.813625693321228 \t eval_accuracy: 0.6 \t eval_f1: 0.5833333333333333 \t eval_precision: 0.6666666666666666 \t eval_recall: 0.75\n",
      "\n",
      "[[1 0 0]\n",
      " [0 0 0]\n",
      " [2 0 2]]\n",
      "\n",
      "Individual predictions: \n",
      "\n"
     ]
    },
    {
     "ename": "TypeError",
     "evalue": "list indices must be integers or slices, not str",
     "output_type": "error",
     "traceback": [
      "\u001b[1;31m---------------------------------------------------------------------------\u001b[0m",
      "\u001b[1;31mTypeError\u001b[0m                                 Traceback (most recent call last)",
      "Input \u001b[1;32mIn [10]\u001b[0m, in \u001b[0;36m<cell line: 4>\u001b[1;34m()\u001b[0m\n\u001b[0;32m      1\u001b[0m \u001b[38;5;28;01mimport\u001b[39;00m \u001b[38;5;21;01mwarnings\u001b[39;00m\n\u001b[0;32m      2\u001b[0m warnings\u001b[38;5;241m.\u001b[39mfilterwarnings(action\u001b[38;5;241m=\u001b[39m\u001b[38;5;124m'\u001b[39m\u001b[38;5;124mignore\u001b[39m\u001b[38;5;124m'\u001b[39m)\n\u001b[1;32m----> 4\u001b[0m \u001b[43mmake_predictions\u001b[49m\u001b[43m(\u001b[49m\u001b[43meval_dataset_roberta\u001b[49m\u001b[43m,\u001b[49m\u001b[43m \u001b[49m\u001b[43msop_richtlijn_dataset\u001b[49m\u001b[43m,\u001b[49m\u001b[43m \u001b[49m\u001b[43mmodel_mednli_roberta_nl_go\u001b[49m\u001b[43m,\u001b[49m\u001b[43m \u001b[49m\u001b[43mtokenizer_robertanl\u001b[49m\u001b[43m,\u001b[49m\u001b[43m \u001b[49m\u001b[43mroberta_nl\u001b[49m\u001b[43m,\u001b[49m\u001b[43m \u001b[49m\u001b[43mprint_individual\u001b[49m\u001b[43m)\u001b[49m\n\u001b[0;32m      5\u001b[0m make_predictions(eval_dataset_roberta, sop_richtlijn_dataset, model_mednli_roberta_nl_dl, tokenizer_robertanl, roberta_nl, print_individual)\n\u001b[0;32m      6\u001b[0m make_predictions(eval_dataset_bertnl, sop_richtlijn_dataset, model_mednli_bert_nl_go, tokenizer_bertnl, bert_nl, print_individual)\n",
      "Input \u001b[1;32mIn [6]\u001b[0m, in \u001b[0;36mmake_predictions\u001b[1;34m(bert_data, sentences, model, tokenizer, name, print_individual)\u001b[0m\n\u001b[0;32m     20\u001b[0m \u001b[38;5;28mprint\u001b[39m(\u001b[38;5;124m\"\u001b[39m\u001b[38;5;130;01m\\n\u001b[39;00m\u001b[38;5;124mIndividual predictions: \u001b[39m\u001b[38;5;130;01m\\n\u001b[39;00m\u001b[38;5;124m\"\u001b[39m)\n\u001b[0;32m     21\u001b[0m \u001b[38;5;28;01mfor\u001b[39;00m (i, (ground_truth, prediction, premise, hypothesis, probabilities)) \u001b[38;5;129;01min\u001b[39;00m \u001b[38;5;28menumerate\u001b[39m(results):\n\u001b[1;32m---> 22\u001b[0m     \u001b[38;5;28mprint\u001b[39m(\u001b[38;5;124mf\u001b[39m\u001b[38;5;124m\"\u001b[39m\u001b[38;5;124mPremise: \u001b[39m\u001b[38;5;132;01m{\u001b[39;00mpremise\u001b[38;5;132;01m}\u001b[39;00m\u001b[38;5;124m \u001b[39m\u001b[38;5;130;01m\\n\u001b[39;00m\u001b[38;5;124mHypothesis: \u001b[39m\u001b[38;5;132;01m{\u001b[39;00mhypothesis\u001b[38;5;132;01m}\u001b[39;00m\u001b[38;5;130;01m\\n\u001b[39;00m\u001b[38;5;124mPrediction: \u001b[39m\u001b[38;5;132;01m{\u001b[39;00mlabels[prediction]\u001b[38;5;132;01m}\u001b[39;00m\u001b[38;5;130;01m\\n\u001b[39;00m\u001b[38;5;124mGround truth: \u001b[39m\u001b[38;5;132;01m{\u001b[39;00mlabels[ground_truth]\u001b[38;5;132;01m}\u001b[39;00m\u001b[38;5;130;01m\\n\u001b[39;00m\u001b[38;5;124mProbabilities: Contradiction: \u001b[39m\u001b[38;5;132;01m{\u001b[39;00mprobabilities[\u001b[38;5;241m0\u001b[39m]\u001b[38;5;132;01m}\u001b[39;00m\u001b[38;5;130;01m\\t\u001b[39;00m\u001b[38;5;124mNeutral: \u001b[39m\u001b[38;5;132;01m{\u001b[39;00mprobabilities[\u001b[38;5;241m1\u001b[39m]\u001b[38;5;132;01m}\u001b[39;00m\u001b[38;5;130;01m\\t\u001b[39;00m\u001b[38;5;124mEntailment: \u001b[39m\u001b[38;5;132;01m{\u001b[39;00mprobabilities[\u001b[38;5;241m2\u001b[39m]\u001b[38;5;132;01m}\u001b[39;00m\u001b[38;5;130;01m\\n\u001b[39;00m\u001b[38;5;130;01m\\n\u001b[39;00m\u001b[38;5;124m\"\u001b[39m)\n",
      "\u001b[1;31mTypeError\u001b[0m: list indices must be integers or slices, not str"
     ]
    }
   ],
   "source": [
    "import warnings\n",
    "warnings.filterwarnings(action='ignore')\n",
    "\n",
    "make_predictions(eval_dataset_roberta, sop_richtlijn_dataset, model_mednli_roberta_nl_go, tokenizer_robertanl, roberta_nl, print_individual)\n",
    "make_predictions(eval_dataset_roberta, sop_richtlijn_dataset, model_mednli_roberta_nl_dl, tokenizer_robertanl, roberta_nl, print_individual)\n",
    "make_predictions(eval_dataset_bertnl, sop_richtlijn_dataset, model_mednli_bert_nl_go, tokenizer_bertnl, bert_nl, print_individual)\n",
    "make_predictions(eval_dataset_bertnl, sop_richtlijn_dataset, model_mednli_bert_nl_dl, tokenizer_bertnl, bert_nl, print_individual)\n",
    "make_predictions(eval_dataset_mbert, sop_richtlijn_dataset, model_mednli_mbert_nl_go, tokenizer_mbert, mbert, print_individual)\n",
    "make_predictions(eval_dataset_mbert, sop_richtlijn_dataset, model_mednli_mbert_nl_dl, tokenizer_mbert, mbert, print_individual)"
   ]
  },
  {
   "cell_type": "code",
   "execution_count": null,
   "id": "680ed488",
   "metadata": {
    "scrolled": false
   },
   "outputs": [],
   "source": [
    "#print(eval_dataset_bertnl[0])\n",
    "input_ids = torch.tensor([i['input_ids'] for i in eval_dataset_bertnl]).to('cuda:0')\n",
    "attn_masks = torch.tensor([i['attention_mask'] for i in eval_dataset_bertnl]).to('cuda:0')\n",
    "token_type_ids = torch.tensor([i['token_type_ids'] for i in eval_dataset_bertnl]).to('cuda:0')\n",
    "#model_sick_bert_nl.cuda()\n",
    "output = model_mednli_bert_nl_dl(input_ids, attn_masks, token_type_ids)\n",
    "\n"
   ]
  },
  {
   "cell_type": "code",
   "execution_count": null,
   "id": "ad48ef45",
   "metadata": {},
   "outputs": [],
   "source": [
    "import scipy\n",
    "logits = output.logits\n",
    "print(output)\n",
    "print(logits)\n",
    "probs = scipy.special.softmax(logits.cpu().detach().numpy(), axis=1).tolist()\n",
    "print(probs)"
   ]
  },
  {
   "cell_type": "code",
   "execution_count": null,
   "id": "736dcbf2",
   "metadata": {},
   "outputs": [],
   "source": [
    "import sys\n",
    "\n",
    "import numpy as np\n",
    "import torch.nn as nn\n",
    "\n",
    "\n",
    "def enable_dropout(model):\n",
    "    \"\"\" Function to enable the dropout layers during test-time \"\"\"\n",
    "    for m in model.modules():\n",
    "        if m.__class__.__name__.startswith('Dropout'):\n",
    "            m.train()\n",
    "\n",
    "def get_monte_carlo_predictions(data_loader,\n",
    "                                forward_passes,\n",
    "                                model,\n",
    "                                n_classes,\n",
    "                                n_samples):\n",
    "    \"\"\" Function to get the monte-carlo samples and uncertainty estimates\n",
    "    through multiple forward passes\n",
    "\n",
    "    Parameters\n",
    "    ----------\n",
    "    data_loader : object\n",
    "        data loader object from the data loader module\n",
    "    forward_passes : int\n",
    "        number of monte-carlo samples/forward passes\n",
    "    model : object\n",
    "        keras model\n",
    "    n_classes : int\n",
    "        number of classes in the dataset\n",
    "    n_samples : int\n",
    "        number of samples in the test set\n",
    "    \"\"\"\n",
    "\n",
    "    dropout_predictions = np.empty((0, n_samples, n_classes))\n",
    "    softmax = nn.Softmax(dim=1)\n",
    "    for i in range(forward_passes):\n",
    "        predictions = np.empty((0, n_classes))\n",
    "        model.eval()\n",
    "        enable_dropout(model)\n",
    "        for i, (image, label) in enumerate(data_loader):\n",
    "\n",
    "            image = image.to(torch.device('cuda'))\n",
    "            with torch.no_grad():\n",
    "                output = model(image)\n",
    "                output = softmax(output) # shape (n_samples, n_classes)\n",
    "            predictions = np.vstack((predictions, output.cpu().numpy()))\n",
    "\n",
    "        dropout_predictions = np.vstack((dropout_predictions,\n",
    "                                         predictions[np.newaxis, :, :]))\n",
    "        # dropout predictions - shape (forward_passes, n_samples, n_classes)\n",
    "    \n",
    "    # Calculating mean across multiple MCD forward passes \n",
    "    mean = np.mean(dropout_predictions, axis=0) # shape (n_samples, n_classes)\n",
    "    print(f\"mean: {mean}\")\n",
    "    # Calculating variance across multiple MCD forward passes \n",
    "    variance = np.var(dropout_predictions, axis=0) # shape (n_samples, n_classes)\n",
    "    print(f\"variance: {variance}\")\n",
    "    epsilon = sys.float_info.min\n",
    "    # Calculating entropy across multiple MCD forward passes \n",
    "    entropy = -np.sum(mean*np.log(mean + epsilon), axis=-1) # shape (n_samples,)\n",
    "\n",
    "    # Calculating mutual information across multiple MCD forward passes \n",
    "    mutual_info = entropy - np.mean(np.sum(-dropout_predictions*np.log(dropout_predictions + epsilon),\n",
    "                                            axis=-1), axis=0) # shape (n_samples,)"
   ]
  },
  {
   "cell_type": "code",
   "execution_count": null,
   "id": "6f2e3aa0",
   "metadata": {},
   "outputs": [],
   "source": [
    "from torch.utils.data import DataLoader\n",
    "print(eval_dataset_mednli_bert[:1])\n",
    "test_dataloader = DataLoader(eval_dataset_mednli_bert[:500], batch_size=16, shuffle=False)\n",
    "get_monte_carlo_predictions(test_dataloader, 100, model_mednli_bert_en, 3, len(test_dataloader))"
   ]
  }
 ],
 "metadata": {
  "kernelspec": {
   "display_name": "Python 3 (ipykernel)",
   "language": "python",
   "name": "python3"
  },
  "language_info": {
   "codemirror_mode": {
    "name": "ipython",
    "version": 3
   },
   "file_extension": ".py",
   "mimetype": "text/x-python",
   "name": "python",
   "nbconvert_exporter": "python",
   "pygments_lexer": "ipython3",
   "version": "3.9.12"
  },
  "vscode": {
   "interpreter": {
    "hash": "0fb4658c42b2156261d0674025e2c0b96135277fd716db413e043e5966c6fd55"
   }
  }
 },
 "nbformat": 4,
 "nbformat_minor": 5
}
